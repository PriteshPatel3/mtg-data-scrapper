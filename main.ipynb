{
 "cells": [
  {
   "cell_type": "code",
   "execution_count": 1,
   "metadata": {},
   "outputs": [],
   "source": [
    "import requests\n",
    "from bs4 import BeautifulSoup\n",
    "import pandas as pd\n",
    "import ijson\n",
    "import urllib.parse\n",
    "import math\n",
    "import sqlite3\n",
    "\n",
    "# Commit the changes and close the connection\n",
    "conn = sqlite3.connect('cards_database.db')\n",
    "\n"
   ]
  },
  {
   "cell_type": "code",
   "execution_count": 2,
   "metadata": {},
   "outputs": [],
   "source": [
    "def process_data(soup):\n",
    "    # Initialize a list to hold card data\n",
    "    cards_data = []\n",
    "\n",
    "    # Find all card rows\n",
    "    for row in soup.find_all('div', class_=('row','amtAndPrice')):\n",
    "        if not row:\n",
    "            continue\n",
    "        card_info = {}\n",
    "        \n",
    "        try:    # Extract card name\n",
    "            name_tag = row.find('a', class_='item-name-bold')\n",
    "            if name_tag:\n",
    "                card_info['Name'] = name_tag.text.strip()\n",
    "            \n",
    "            # Extract brand\n",
    "            brand_tag = row.find(text='Brand:').find_next('p')\n",
    "            if brand_tag:\n",
    "                card_info['Brand'] = brand_tag.text.strip()\n",
    "            \n",
    "            # Extract set\n",
    "            set_tag = row.find(text='Set:').find_next('p')\n",
    "            if set_tag:\n",
    "                card_info['Set'] = set_tag.text.strip()\n",
    "            \n",
    "\n",
    "            set_link_tag = row.find('p', class_='item-text', text='Set:').find_next('a')\n",
    "            if set_link_tag:\n",
    "                card_info['Set'] = set_link_tag.text.strip()\n",
    "                # Extract the product ID from the link\n",
    "                product_id = set_link_tag['href'].split('item_set=')[-1]\n",
    "                card_info['Product ID'] = product_id\n",
    "            # Extract language\n",
    "            language_tag = row.find(text='Language:').find_next('p')\n",
    "            if language_tag:\n",
    "                card_info['Language'] = language_tag.text.strip()\n",
    "            \n",
    "            # Extract finish\n",
    "            finish_tag = row.find(text='Finish:').find_next('p')\n",
    "            if finish_tag:\n",
    "                card_info['Finish'] = finish_tag.text.strip()\n",
    "            \n",
    "            # Extract rarity\n",
    "            rarity_tag = row.find(text='Rarity:').find_next('p')\n",
    "            if rarity_tag:\n",
    "                card_info['Rarity'] = rarity_tag.text.strip()\n",
    "            \n",
    "            # Extract status\n",
    "            status_tag = row.find(text='Status:').find_next('p')\n",
    "            if status_tag:\n",
    "                card_info['Status'] = status_tag.text.strip()\n",
    "            \n",
    "            stock_details = {}\n",
    "            stock_qty_tag = row.find('span', class_='styleQty')\n",
    "            if stock_qty_tag:\n",
    "                card_info['Stock Quantity'] = stock_qty_tag.text.strip()\n",
    "            else:\n",
    "                card_info['Stock Quantity'] = 0\n",
    "\n",
    "            \n",
    "            stock_avail_tag = row.find('span', class_='styleQtyAvailText')\n",
    "            if stock_avail_tag:\n",
    "                card_info['Stock Availability'] = stock_avail_tag.text.strip()\n",
    "            else:\n",
    "                card_info['Stock Availability'] = 0\n",
    "\n",
    "            stock_price_tag = row.find('span', class_='stylePrice')\n",
    "            if stock_price_tag:\n",
    "                card_info['Stock Price'] = stock_price_tag.text.strip()\n",
    "            else:\n",
    "                card_info['Stock Price'] = 0\n",
    "            #  the card info to the list\n",
    "            cards_data.append(card_info)\n",
    "        except Exception as e:\n",
    "            continue\n",
    "    # Create a DataFrame\n",
    "    df = pd.DataFrame(cards_data)\n",
    "    return df.fillna(0) "
   ]
  },
  {
   "cell_type": "code",
   "execution_count": 3,
   "metadata": {},
   "outputs": [],
   "source": [
    "def get_max_page(url):\n",
    "    response = requests.get(url)\n",
    "    # Check if the request was successful\n",
    "    if response.status_code == 200:\n",
    "        # Parse the content of the page\n",
    "        soup = BeautifulSoup(response.content, 'html.parser')\n",
    "        total_records = int(soup.find('span', id='total-record-number-top').text.strip())\n",
    "        return math.ceil(total_records/60) + 1\n",
    "    else:\n",
    "        return None"
   ]
  },
  {
   "cell_type": "code",
   "execution_count": 4,
   "metadata": {},
   "outputs": [],
   "source": [
    "def web_scraper(parsed_txt, maxpages):\n",
    "    combined_df = pd.DataFrame()\n",
    "    for i in range(1, maxpages):\n",
    "        response = requests.get(f'https://www.classroomtgc.com/Product/Index2?type=sell&item_name={parsed_txt}&item_brand=&before_price=0&after_price=0&page_number={i}&record_number=60&sort_by=')\n",
    "        \n",
    "        if not response.status_code == 200:\n",
    "            continue\n",
    "\n",
    "        soup = BeautifulSoup(response.content, 'html.parser')\n",
    "        df = process_data(soup)\n",
    "        combined_df = pd.concat([combined_df, df])\n",
    "    # Extract and return the title of the page\n",
    "    return combined_df\n",
    "    # else:\n",
    "    #     return f\"Error: Unable to retrieve page, status code {response.status_code}\"\n"
   ]
  },
  {
   "cell_type": "code",
   "execution_count": 6,
   "metadata": {},
   "outputs": [],
   "source": [
    "def insert_db(cursor, data):\n",
    "    for index, row in data.iterrows():\n",
    "        try:\n",
    "            cursor.execute('''\n",
    "                INSERT INTO cards (name, brand, set_name, language, finish, rarity, status, stock_quantity, stock_availability, stock_price)\n",
    "                VALUES (?, ?, ?, ?, ?, ?, ?, ?, ?, ?) ON CONFLICT DO NOTHING;\n",
    "            ''', (row['Name'], row['Brand'], row['Set'], row['Language'], row['Finish'], row['Rarity'], row['Status'], row['Stock Quantity'], row['Stock Availability'], row['Stock Price']))\n",
    "            cursor.commit()\n",
    "        except:\n",
    "            continue\n"
   ]
  },
  {
   "cell_type": "code",
   "execution_count": 7,
   "metadata": {},
   "outputs": [
    {
     "name": "stdout",
     "output_type": "stream",
     "text": [
      "Forest\n",
      "not existing_entry\n",
      "Forest\n",
      "24\n"
     ]
    },
    {
     "name": "stderr",
     "output_type": "stream",
     "text": [
      "C:\\Users\\Owner\\AppData\\Local\\Temp\\ipykernel_15088\\1759385609.py:17: DeprecationWarning: The 'text' argument to find()-type methods is deprecated. Use 'string' instead.\n",
      "  brand_tag = row.find(text='Brand:').find_next('p')\n",
      "C:\\Users\\Owner\\AppData\\Local\\Temp\\ipykernel_15088\\1759385609.py:22: DeprecationWarning: The 'text' argument to find()-type methods is deprecated. Use 'string' instead.\n",
      "  set_tag = row.find(text='Set:').find_next('p')\n",
      "C:\\Users\\Owner\\AppData\\Local\\Temp\\ipykernel_15088\\1759385609.py:27: DeprecationWarning: The 'text' argument to find()-type methods is deprecated. Use 'string' instead.\n",
      "  set_link_tag = row.find('p', class_='item-text', text='Set:').find_next('a')\n",
      "C:\\Users\\Owner\\AppData\\Local\\Temp\\ipykernel_15088\\1759385609.py:34: DeprecationWarning: The 'text' argument to find()-type methods is deprecated. Use 'string' instead.\n",
      "  language_tag = row.find(text='Language:').find_next('p')\n",
      "C:\\Users\\Owner\\AppData\\Local\\Temp\\ipykernel_15088\\1759385609.py:39: DeprecationWarning: The 'text' argument to find()-type methods is deprecated. Use 'string' instead.\n",
      "  finish_tag = row.find(text='Finish:').find_next('p')\n",
      "C:\\Users\\Owner\\AppData\\Local\\Temp\\ipykernel_15088\\1759385609.py:44: DeprecationWarning: The 'text' argument to find()-type methods is deprecated. Use 'string' instead.\n",
      "  rarity_tag = row.find(text='Rarity:').find_next('p')\n",
      "C:\\Users\\Owner\\AppData\\Local\\Temp\\ipykernel_15088\\1759385609.py:49: DeprecationWarning: The 'text' argument to find()-type methods is deprecated. Use 'string' instead.\n",
      "  status_tag = row.find(text='Status:').find_next('p')\n"
     ]
    },
    {
     "name": "stdout",
     "output_type": "stream",
     "text": [
      "Fury Sliver\n",
      "not existing_entry\n",
      "Fury+Sliver\n",
      "2\n"
     ]
    },
    {
     "name": "stderr",
     "output_type": "stream",
     "text": [
      "C:\\Users\\Owner\\AppData\\Local\\Temp\\ipykernel_15088\\1759385609.py:17: DeprecationWarning: The 'text' argument to find()-type methods is deprecated. Use 'string' instead.\n",
      "  brand_tag = row.find(text='Brand:').find_next('p')\n",
      "C:\\Users\\Owner\\AppData\\Local\\Temp\\ipykernel_15088\\1759385609.py:22: DeprecationWarning: The 'text' argument to find()-type methods is deprecated. Use 'string' instead.\n",
      "  set_tag = row.find(text='Set:').find_next('p')\n",
      "C:\\Users\\Owner\\AppData\\Local\\Temp\\ipykernel_15088\\1759385609.py:27: DeprecationWarning: The 'text' argument to find()-type methods is deprecated. Use 'string' instead.\n",
      "  set_link_tag = row.find('p', class_='item-text', text='Set:').find_next('a')\n",
      "C:\\Users\\Owner\\AppData\\Local\\Temp\\ipykernel_15088\\1759385609.py:34: DeprecationWarning: The 'text' argument to find()-type methods is deprecated. Use 'string' instead.\n",
      "  language_tag = row.find(text='Language:').find_next('p')\n",
      "C:\\Users\\Owner\\AppData\\Local\\Temp\\ipykernel_15088\\1759385609.py:39: DeprecationWarning: The 'text' argument to find()-type methods is deprecated. Use 'string' instead.\n",
      "  finish_tag = row.find(text='Finish:').find_next('p')\n",
      "C:\\Users\\Owner\\AppData\\Local\\Temp\\ipykernel_15088\\1759385609.py:44: DeprecationWarning: The 'text' argument to find()-type methods is deprecated. Use 'string' instead.\n",
      "  rarity_tag = row.find(text='Rarity:').find_next('p')\n",
      "C:\\Users\\Owner\\AppData\\Local\\Temp\\ipykernel_15088\\1759385609.py:49: DeprecationWarning: The 'text' argument to find()-type methods is deprecated. Use 'string' instead.\n",
      "  status_tag = row.find(text='Status:').find_next('p')\n"
     ]
    },
    {
     "name": "stdout",
     "output_type": "stream",
     "text": [
      "Kor Outfitter\n",
      "not existing_entry\n",
      "Kor+Outfitter\n",
      "2\n"
     ]
    },
    {
     "name": "stderr",
     "output_type": "stream",
     "text": [
      "C:\\Users\\Owner\\AppData\\Local\\Temp\\ipykernel_15088\\1759385609.py:17: DeprecationWarning: The 'text' argument to find()-type methods is deprecated. Use 'string' instead.\n",
      "  brand_tag = row.find(text='Brand:').find_next('p')\n",
      "C:\\Users\\Owner\\AppData\\Local\\Temp\\ipykernel_15088\\1759385609.py:22: DeprecationWarning: The 'text' argument to find()-type methods is deprecated. Use 'string' instead.\n",
      "  set_tag = row.find(text='Set:').find_next('p')\n",
      "C:\\Users\\Owner\\AppData\\Local\\Temp\\ipykernel_15088\\1759385609.py:27: DeprecationWarning: The 'text' argument to find()-type methods is deprecated. Use 'string' instead.\n",
      "  set_link_tag = row.find('p', class_='item-text', text='Set:').find_next('a')\n",
      "C:\\Users\\Owner\\AppData\\Local\\Temp\\ipykernel_15088\\1759385609.py:34: DeprecationWarning: The 'text' argument to find()-type methods is deprecated. Use 'string' instead.\n",
      "  language_tag = row.find(text='Language:').find_next('p')\n",
      "C:\\Users\\Owner\\AppData\\Local\\Temp\\ipykernel_15088\\1759385609.py:39: DeprecationWarning: The 'text' argument to find()-type methods is deprecated. Use 'string' instead.\n",
      "  finish_tag = row.find(text='Finish:').find_next('p')\n",
      "C:\\Users\\Owner\\AppData\\Local\\Temp\\ipykernel_15088\\1759385609.py:44: DeprecationWarning: The 'text' argument to find()-type methods is deprecated. Use 'string' instead.\n",
      "  rarity_tag = row.find(text='Rarity:').find_next('p')\n",
      "C:\\Users\\Owner\\AppData\\Local\\Temp\\ipykernel_15088\\1759385609.py:49: DeprecationWarning: The 'text' argument to find()-type methods is deprecated. Use 'string' instead.\n",
      "  status_tag = row.find(text='Status:').find_next('p')\n"
     ]
    },
    {
     "name": "stdout",
     "output_type": "stream",
     "text": [
      "Spirit of the Hearth\n",
      "not existing_entry\n",
      "Spirit+of+the+Hearth\n",
      "2\n"
     ]
    },
    {
     "name": "stderr",
     "output_type": "stream",
     "text": [
      "C:\\Users\\Owner\\AppData\\Local\\Temp\\ipykernel_15088\\1759385609.py:17: DeprecationWarning: The 'text' argument to find()-type methods is deprecated. Use 'string' instead.\n",
      "  brand_tag = row.find(text='Brand:').find_next('p')\n",
      "C:\\Users\\Owner\\AppData\\Local\\Temp\\ipykernel_15088\\1759385609.py:22: DeprecationWarning: The 'text' argument to find()-type methods is deprecated. Use 'string' instead.\n",
      "  set_tag = row.find(text='Set:').find_next('p')\n",
      "C:\\Users\\Owner\\AppData\\Local\\Temp\\ipykernel_15088\\1759385609.py:27: DeprecationWarning: The 'text' argument to find()-type methods is deprecated. Use 'string' instead.\n",
      "  set_link_tag = row.find('p', class_='item-text', text='Set:').find_next('a')\n",
      "C:\\Users\\Owner\\AppData\\Local\\Temp\\ipykernel_15088\\1759385609.py:34: DeprecationWarning: The 'text' argument to find()-type methods is deprecated. Use 'string' instead.\n",
      "  language_tag = row.find(text='Language:').find_next('p')\n",
      "C:\\Users\\Owner\\AppData\\Local\\Temp\\ipykernel_15088\\1759385609.py:39: DeprecationWarning: The 'text' argument to find()-type methods is deprecated. Use 'string' instead.\n",
      "  finish_tag = row.find(text='Finish:').find_next('p')\n",
      "C:\\Users\\Owner\\AppData\\Local\\Temp\\ipykernel_15088\\1759385609.py:44: DeprecationWarning: The 'text' argument to find()-type methods is deprecated. Use 'string' instead.\n",
      "  rarity_tag = row.find(text='Rarity:').find_next('p')\n",
      "C:\\Users\\Owner\\AppData\\Local\\Temp\\ipykernel_15088\\1759385609.py:49: DeprecationWarning: The 'text' argument to find()-type methods is deprecated. Use 'string' instead.\n",
      "  status_tag = row.find(text='Status:').find_next('p')\n"
     ]
    },
    {
     "name": "stdout",
     "output_type": "stream",
     "text": [
      "Spirit\n",
      "not existing_entry\n",
      "Spirit\n",
      "12\n"
     ]
    },
    {
     "name": "stderr",
     "output_type": "stream",
     "text": [
      "C:\\Users\\Owner\\AppData\\Local\\Temp\\ipykernel_15088\\1759385609.py:17: DeprecationWarning: The 'text' argument to find()-type methods is deprecated. Use 'string' instead.\n",
      "  brand_tag = row.find(text='Brand:').find_next('p')\n",
      "C:\\Users\\Owner\\AppData\\Local\\Temp\\ipykernel_15088\\1759385609.py:22: DeprecationWarning: The 'text' argument to find()-type methods is deprecated. Use 'string' instead.\n",
      "  set_tag = row.find(text='Set:').find_next('p')\n",
      "C:\\Users\\Owner\\AppData\\Local\\Temp\\ipykernel_15088\\1759385609.py:27: DeprecationWarning: The 'text' argument to find()-type methods is deprecated. Use 'string' instead.\n",
      "  set_link_tag = row.find('p', class_='item-text', text='Set:').find_next('a')\n",
      "C:\\Users\\Owner\\AppData\\Local\\Temp\\ipykernel_15088\\1759385609.py:34: DeprecationWarning: The 'text' argument to find()-type methods is deprecated. Use 'string' instead.\n",
      "  language_tag = row.find(text='Language:').find_next('p')\n",
      "C:\\Users\\Owner\\AppData\\Local\\Temp\\ipykernel_15088\\1759385609.py:39: DeprecationWarning: The 'text' argument to find()-type methods is deprecated. Use 'string' instead.\n",
      "  finish_tag = row.find(text='Finish:').find_next('p')\n",
      "C:\\Users\\Owner\\AppData\\Local\\Temp\\ipykernel_15088\\1759385609.py:44: DeprecationWarning: The 'text' argument to find()-type methods is deprecated. Use 'string' instead.\n",
      "  rarity_tag = row.find(text='Rarity:').find_next('p')\n",
      "C:\\Users\\Owner\\AppData\\Local\\Temp\\ipykernel_15088\\1759385609.py:49: DeprecationWarning: The 'text' argument to find()-type methods is deprecated. Use 'string' instead.\n",
      "  status_tag = row.find(text='Status:').find_next('p')\n"
     ]
    },
    {
     "name": "stdout",
     "output_type": "stream",
     "text": [
      "Siren Lookout\n",
      "not existing_entry\n",
      "Siren+Lookout\n",
      "2\n"
     ]
    },
    {
     "name": "stderr",
     "output_type": "stream",
     "text": [
      "C:\\Users\\Owner\\AppData\\Local\\Temp\\ipykernel_15088\\1759385609.py:17: DeprecationWarning: The 'text' argument to find()-type methods is deprecated. Use 'string' instead.\n",
      "  brand_tag = row.find(text='Brand:').find_next('p')\n",
      "C:\\Users\\Owner\\AppData\\Local\\Temp\\ipykernel_15088\\1759385609.py:22: DeprecationWarning: The 'text' argument to find()-type methods is deprecated. Use 'string' instead.\n",
      "  set_tag = row.find(text='Set:').find_next('p')\n",
      "C:\\Users\\Owner\\AppData\\Local\\Temp\\ipykernel_15088\\1759385609.py:27: DeprecationWarning: The 'text' argument to find()-type methods is deprecated. Use 'string' instead.\n",
      "  set_link_tag = row.find('p', class_='item-text', text='Set:').find_next('a')\n",
      "C:\\Users\\Owner\\AppData\\Local\\Temp\\ipykernel_15088\\1759385609.py:34: DeprecationWarning: The 'text' argument to find()-type methods is deprecated. Use 'string' instead.\n",
      "  language_tag = row.find(text='Language:').find_next('p')\n",
      "C:\\Users\\Owner\\AppData\\Local\\Temp\\ipykernel_15088\\1759385609.py:39: DeprecationWarning: The 'text' argument to find()-type methods is deprecated. Use 'string' instead.\n",
      "  finish_tag = row.find(text='Finish:').find_next('p')\n",
      "C:\\Users\\Owner\\AppData\\Local\\Temp\\ipykernel_15088\\1759385609.py:44: DeprecationWarning: The 'text' argument to find()-type methods is deprecated. Use 'string' instead.\n",
      "  rarity_tag = row.find(text='Rarity:').find_next('p')\n",
      "C:\\Users\\Owner\\AppData\\Local\\Temp\\ipykernel_15088\\1759385609.py:49: DeprecationWarning: The 'text' argument to find()-type methods is deprecated. Use 'string' instead.\n",
      "  status_tag = row.find(text='Status:').find_next('p')\n"
     ]
    },
    {
     "name": "stdout",
     "output_type": "stream",
     "text": [
      "Wormfang Drake\n",
      "not existing_entry\n",
      "Wormfang+Drake\n",
      "2\n"
     ]
    },
    {
     "name": "stderr",
     "output_type": "stream",
     "text": [
      "C:\\Users\\Owner\\AppData\\Local\\Temp\\ipykernel_15088\\1759385609.py:17: DeprecationWarning: The 'text' argument to find()-type methods is deprecated. Use 'string' instead.\n",
      "  brand_tag = row.find(text='Brand:').find_next('p')\n",
      "C:\\Users\\Owner\\AppData\\Local\\Temp\\ipykernel_15088\\1759385609.py:22: DeprecationWarning: The 'text' argument to find()-type methods is deprecated. Use 'string' instead.\n",
      "  set_tag = row.find(text='Set:').find_next('p')\n",
      "C:\\Users\\Owner\\AppData\\Local\\Temp\\ipykernel_15088\\1759385609.py:27: DeprecationWarning: The 'text' argument to find()-type methods is deprecated. Use 'string' instead.\n",
      "  set_link_tag = row.find('p', class_='item-text', text='Set:').find_next('a')\n",
      "C:\\Users\\Owner\\AppData\\Local\\Temp\\ipykernel_15088\\1759385609.py:34: DeprecationWarning: The 'text' argument to find()-type methods is deprecated. Use 'string' instead.\n",
      "  language_tag = row.find(text='Language:').find_next('p')\n",
      "C:\\Users\\Owner\\AppData\\Local\\Temp\\ipykernel_15088\\1759385609.py:39: DeprecationWarning: The 'text' argument to find()-type methods is deprecated. Use 'string' instead.\n",
      "  finish_tag = row.find(text='Finish:').find_next('p')\n",
      "C:\\Users\\Owner\\AppData\\Local\\Temp\\ipykernel_15088\\1759385609.py:44: DeprecationWarning: The 'text' argument to find()-type methods is deprecated. Use 'string' instead.\n",
      "  rarity_tag = row.find(text='Rarity:').find_next('p')\n",
      "C:\\Users\\Owner\\AppData\\Local\\Temp\\ipykernel_15088\\1759385609.py:49: DeprecationWarning: The 'text' argument to find()-type methods is deprecated. Use 'string' instead.\n",
      "  status_tag = row.find(text='Status:').find_next('p')\n"
     ]
    },
    {
     "name": "stdout",
     "output_type": "stream",
     "text": [
      "Web\n",
      "not existing_entry\n",
      "Web\n",
      "3\n"
     ]
    },
    {
     "name": "stderr",
     "output_type": "stream",
     "text": [
      "C:\\Users\\Owner\\AppData\\Local\\Temp\\ipykernel_15088\\1759385609.py:17: DeprecationWarning: The 'text' argument to find()-type methods is deprecated. Use 'string' instead.\n",
      "  brand_tag = row.find(text='Brand:').find_next('p')\n",
      "C:\\Users\\Owner\\AppData\\Local\\Temp\\ipykernel_15088\\1759385609.py:22: DeprecationWarning: The 'text' argument to find()-type methods is deprecated. Use 'string' instead.\n",
      "  set_tag = row.find(text='Set:').find_next('p')\n",
      "C:\\Users\\Owner\\AppData\\Local\\Temp\\ipykernel_15088\\1759385609.py:27: DeprecationWarning: The 'text' argument to find()-type methods is deprecated. Use 'string' instead.\n",
      "  set_link_tag = row.find('p', class_='item-text', text='Set:').find_next('a')\n",
      "C:\\Users\\Owner\\AppData\\Local\\Temp\\ipykernel_15088\\1759385609.py:34: DeprecationWarning: The 'text' argument to find()-type methods is deprecated. Use 'string' instead.\n",
      "  language_tag = row.find(text='Language:').find_next('p')\n",
      "C:\\Users\\Owner\\AppData\\Local\\Temp\\ipykernel_15088\\1759385609.py:39: DeprecationWarning: The 'text' argument to find()-type methods is deprecated. Use 'string' instead.\n",
      "  finish_tag = row.find(text='Finish:').find_next('p')\n",
      "C:\\Users\\Owner\\AppData\\Local\\Temp\\ipykernel_15088\\1759385609.py:44: DeprecationWarning: The 'text' argument to find()-type methods is deprecated. Use 'string' instead.\n",
      "  rarity_tag = row.find(text='Rarity:').find_next('p')\n",
      "C:\\Users\\Owner\\AppData\\Local\\Temp\\ipykernel_15088\\1759385609.py:49: DeprecationWarning: The 'text' argument to find()-type methods is deprecated. Use 'string' instead.\n",
      "  status_tag = row.find(text='Status:').find_next('p')\n"
     ]
    },
    {
     "name": "stdout",
     "output_type": "stream",
     "text": [
      "Chandra, Pyrogenius\n",
      "not existing_entry\n",
      "Chandra%2C+Pyrogenius\n",
      "2\n"
     ]
    },
    {
     "name": "stderr",
     "output_type": "stream",
     "text": [
      "C:\\Users\\Owner\\AppData\\Local\\Temp\\ipykernel_15088\\1759385609.py:17: DeprecationWarning: The 'text' argument to find()-type methods is deprecated. Use 'string' instead.\n",
      "  brand_tag = row.find(text='Brand:').find_next('p')\n",
      "C:\\Users\\Owner\\AppData\\Local\\Temp\\ipykernel_15088\\1759385609.py:22: DeprecationWarning: The 'text' argument to find()-type methods is deprecated. Use 'string' instead.\n",
      "  set_tag = row.find(text='Set:').find_next('p')\n",
      "C:\\Users\\Owner\\AppData\\Local\\Temp\\ipykernel_15088\\1759385609.py:27: DeprecationWarning: The 'text' argument to find()-type methods is deprecated. Use 'string' instead.\n",
      "  set_link_tag = row.find('p', class_='item-text', text='Set:').find_next('a')\n",
      "C:\\Users\\Owner\\AppData\\Local\\Temp\\ipykernel_15088\\1759385609.py:34: DeprecationWarning: The 'text' argument to find()-type methods is deprecated. Use 'string' instead.\n",
      "  language_tag = row.find(text='Language:').find_next('p')\n",
      "C:\\Users\\Owner\\AppData\\Local\\Temp\\ipykernel_15088\\1759385609.py:39: DeprecationWarning: The 'text' argument to find()-type methods is deprecated. Use 'string' instead.\n",
      "  finish_tag = row.find(text='Finish:').find_next('p')\n",
      "C:\\Users\\Owner\\AppData\\Local\\Temp\\ipykernel_15088\\1759385609.py:44: DeprecationWarning: The 'text' argument to find()-type methods is deprecated. Use 'string' instead.\n",
      "  rarity_tag = row.find(text='Rarity:').find_next('p')\n",
      "C:\\Users\\Owner\\AppData\\Local\\Temp\\ipykernel_15088\\1759385609.py:49: DeprecationWarning: The 'text' argument to find()-type methods is deprecated. Use 'string' instead.\n",
      "  status_tag = row.find(text='Status:').find_next('p')\n"
     ]
    },
    {
     "name": "stdout",
     "output_type": "stream",
     "text": [
      "Transluminant\n",
      "not existing_entry\n",
      "Transluminant\n",
      "2\n"
     ]
    },
    {
     "name": "stderr",
     "output_type": "stream",
     "text": [
      "C:\\Users\\Owner\\AppData\\Local\\Temp\\ipykernel_15088\\1759385609.py:17: DeprecationWarning: The 'text' argument to find()-type methods is deprecated. Use 'string' instead.\n",
      "  brand_tag = row.find(text='Brand:').find_next('p')\n",
      "C:\\Users\\Owner\\AppData\\Local\\Temp\\ipykernel_15088\\1759385609.py:22: DeprecationWarning: The 'text' argument to find()-type methods is deprecated. Use 'string' instead.\n",
      "  set_tag = row.find(text='Set:').find_next('p')\n",
      "C:\\Users\\Owner\\AppData\\Local\\Temp\\ipykernel_15088\\1759385609.py:27: DeprecationWarning: The 'text' argument to find()-type methods is deprecated. Use 'string' instead.\n",
      "  set_link_tag = row.find('p', class_='item-text', text='Set:').find_next('a')\n",
      "C:\\Users\\Owner\\AppData\\Local\\Temp\\ipykernel_15088\\1759385609.py:34: DeprecationWarning: The 'text' argument to find()-type methods is deprecated. Use 'string' instead.\n",
      "  language_tag = row.find(text='Language:').find_next('p')\n",
      "C:\\Users\\Owner\\AppData\\Local\\Temp\\ipykernel_15088\\1759385609.py:39: DeprecationWarning: The 'text' argument to find()-type methods is deprecated. Use 'string' instead.\n",
      "  finish_tag = row.find(text='Finish:').find_next('p')\n",
      "C:\\Users\\Owner\\AppData\\Local\\Temp\\ipykernel_15088\\1759385609.py:44: DeprecationWarning: The 'text' argument to find()-type methods is deprecated. Use 'string' instead.\n",
      "  rarity_tag = row.find(text='Rarity:').find_next('p')\n",
      "C:\\Users\\Owner\\AppData\\Local\\Temp\\ipykernel_15088\\1759385609.py:49: DeprecationWarning: The 'text' argument to find()-type methods is deprecated. Use 'string' instead.\n",
      "  status_tag = row.find(text='Status:').find_next('p')\n"
     ]
    },
    {
     "name": "stdout",
     "output_type": "stream",
     "text": [
      "Lord of the Accursed\n",
      "not existing_entry\n",
      "Lord+of+the+Accursed\n",
      "2\n"
     ]
    },
    {
     "name": "stderr",
     "output_type": "stream",
     "text": [
      "C:\\Users\\Owner\\AppData\\Local\\Temp\\ipykernel_15088\\1759385609.py:17: DeprecationWarning: The 'text' argument to find()-type methods is deprecated. Use 'string' instead.\n",
      "  brand_tag = row.find(text='Brand:').find_next('p')\n",
      "C:\\Users\\Owner\\AppData\\Local\\Temp\\ipykernel_15088\\1759385609.py:22: DeprecationWarning: The 'text' argument to find()-type methods is deprecated. Use 'string' instead.\n",
      "  set_tag = row.find(text='Set:').find_next('p')\n",
      "C:\\Users\\Owner\\AppData\\Local\\Temp\\ipykernel_15088\\1759385609.py:27: DeprecationWarning: The 'text' argument to find()-type methods is deprecated. Use 'string' instead.\n",
      "  set_link_tag = row.find('p', class_='item-text', text='Set:').find_next('a')\n",
      "C:\\Users\\Owner\\AppData\\Local\\Temp\\ipykernel_15088\\1759385609.py:34: DeprecationWarning: The 'text' argument to find()-type methods is deprecated. Use 'string' instead.\n",
      "  language_tag = row.find(text='Language:').find_next('p')\n",
      "C:\\Users\\Owner\\AppData\\Local\\Temp\\ipykernel_15088\\1759385609.py:39: DeprecationWarning: The 'text' argument to find()-type methods is deprecated. Use 'string' instead.\n",
      "  finish_tag = row.find(text='Finish:').find_next('p')\n",
      "C:\\Users\\Owner\\AppData\\Local\\Temp\\ipykernel_15088\\1759385609.py:44: DeprecationWarning: The 'text' argument to find()-type methods is deprecated. Use 'string' instead.\n",
      "  rarity_tag = row.find(text='Rarity:').find_next('p')\n",
      "C:\\Users\\Owner\\AppData\\Local\\Temp\\ipykernel_15088\\1759385609.py:49: DeprecationWarning: The 'text' argument to find()-type methods is deprecated. Use 'string' instead.\n",
      "  status_tag = row.find(text='Status:').find_next('p')\n"
     ]
    },
    {
     "name": "stdout",
     "output_type": "stream",
     "text": [
      "Shardless Agent\n",
      "not existing_entry\n",
      "Shardless+Agent\n",
      "2\n"
     ]
    },
    {
     "name": "stderr",
     "output_type": "stream",
     "text": [
      "C:\\Users\\Owner\\AppData\\Local\\Temp\\ipykernel_15088\\1759385609.py:17: DeprecationWarning: The 'text' argument to find()-type methods is deprecated. Use 'string' instead.\n",
      "  brand_tag = row.find(text='Brand:').find_next('p')\n",
      "C:\\Users\\Owner\\AppData\\Local\\Temp\\ipykernel_15088\\1759385609.py:22: DeprecationWarning: The 'text' argument to find()-type methods is deprecated. Use 'string' instead.\n",
      "  set_tag = row.find(text='Set:').find_next('p')\n",
      "C:\\Users\\Owner\\AppData\\Local\\Temp\\ipykernel_15088\\1759385609.py:27: DeprecationWarning: The 'text' argument to find()-type methods is deprecated. Use 'string' instead.\n",
      "  set_link_tag = row.find('p', class_='item-text', text='Set:').find_next('a')\n",
      "C:\\Users\\Owner\\AppData\\Local\\Temp\\ipykernel_15088\\1759385609.py:34: DeprecationWarning: The 'text' argument to find()-type methods is deprecated. Use 'string' instead.\n",
      "  language_tag = row.find(text='Language:').find_next('p')\n",
      "C:\\Users\\Owner\\AppData\\Local\\Temp\\ipykernel_15088\\1759385609.py:39: DeprecationWarning: The 'text' argument to find()-type methods is deprecated. Use 'string' instead.\n",
      "  finish_tag = row.find(text='Finish:').find_next('p')\n",
      "C:\\Users\\Owner\\AppData\\Local\\Temp\\ipykernel_15088\\1759385609.py:44: DeprecationWarning: The 'text' argument to find()-type methods is deprecated. Use 'string' instead.\n",
      "  rarity_tag = row.find(text='Rarity:').find_next('p')\n",
      "C:\\Users\\Owner\\AppData\\Local\\Temp\\ipykernel_15088\\1759385609.py:49: DeprecationWarning: The 'text' argument to find()-type methods is deprecated. Use 'string' instead.\n",
      "  status_tag = row.find(text='Status:').find_next('p')\n"
     ]
    },
    {
     "name": "stdout",
     "output_type": "stream",
     "text": [
      "Fear of Death\n",
      "not existing_entry\n",
      "Fear+of+Death\n",
      "2\n"
     ]
    },
    {
     "name": "stderr",
     "output_type": "stream",
     "text": [
      "C:\\Users\\Owner\\AppData\\Local\\Temp\\ipykernel_15088\\1759385609.py:17: DeprecationWarning: The 'text' argument to find()-type methods is deprecated. Use 'string' instead.\n",
      "  brand_tag = row.find(text='Brand:').find_next('p')\n",
      "C:\\Users\\Owner\\AppData\\Local\\Temp\\ipykernel_15088\\1759385609.py:22: DeprecationWarning: The 'text' argument to find()-type methods is deprecated. Use 'string' instead.\n",
      "  set_tag = row.find(text='Set:').find_next('p')\n",
      "C:\\Users\\Owner\\AppData\\Local\\Temp\\ipykernel_15088\\1759385609.py:27: DeprecationWarning: The 'text' argument to find()-type methods is deprecated. Use 'string' instead.\n",
      "  set_link_tag = row.find('p', class_='item-text', text='Set:').find_next('a')\n",
      "C:\\Users\\Owner\\AppData\\Local\\Temp\\ipykernel_15088\\1759385609.py:34: DeprecationWarning: The 'text' argument to find()-type methods is deprecated. Use 'string' instead.\n",
      "  language_tag = row.find(text='Language:').find_next('p')\n",
      "C:\\Users\\Owner\\AppData\\Local\\Temp\\ipykernel_15088\\1759385609.py:39: DeprecationWarning: The 'text' argument to find()-type methods is deprecated. Use 'string' instead.\n",
      "  finish_tag = row.find(text='Finish:').find_next('p')\n",
      "C:\\Users\\Owner\\AppData\\Local\\Temp\\ipykernel_15088\\1759385609.py:44: DeprecationWarning: The 'text' argument to find()-type methods is deprecated. Use 'string' instead.\n",
      "  rarity_tag = row.find(text='Rarity:').find_next('p')\n",
      "C:\\Users\\Owner\\AppData\\Local\\Temp\\ipykernel_15088\\1759385609.py:49: DeprecationWarning: The 'text' argument to find()-type methods is deprecated. Use 'string' instead.\n",
      "  status_tag = row.find(text='Status:').find_next('p')\n"
     ]
    },
    {
     "name": "stdout",
     "output_type": "stream",
     "text": [
      "Drudge Beetle\n",
      "not existing_entry\n",
      "Drudge+Beetle\n",
      "2\n"
     ]
    },
    {
     "name": "stderr",
     "output_type": "stream",
     "text": [
      "C:\\Users\\Owner\\AppData\\Local\\Temp\\ipykernel_15088\\1759385609.py:17: DeprecationWarning: The 'text' argument to find()-type methods is deprecated. Use 'string' instead.\n",
      "  brand_tag = row.find(text='Brand:').find_next('p')\n",
      "C:\\Users\\Owner\\AppData\\Local\\Temp\\ipykernel_15088\\1759385609.py:22: DeprecationWarning: The 'text' argument to find()-type methods is deprecated. Use 'string' instead.\n",
      "  set_tag = row.find(text='Set:').find_next('p')\n",
      "C:\\Users\\Owner\\AppData\\Local\\Temp\\ipykernel_15088\\1759385609.py:27: DeprecationWarning: The 'text' argument to find()-type methods is deprecated. Use 'string' instead.\n",
      "  set_link_tag = row.find('p', class_='item-text', text='Set:').find_next('a')\n",
      "C:\\Users\\Owner\\AppData\\Local\\Temp\\ipykernel_15088\\1759385609.py:34: DeprecationWarning: The 'text' argument to find()-type methods is deprecated. Use 'string' instead.\n",
      "  language_tag = row.find(text='Language:').find_next('p')\n",
      "C:\\Users\\Owner\\AppData\\Local\\Temp\\ipykernel_15088\\1759385609.py:39: DeprecationWarning: The 'text' argument to find()-type methods is deprecated. Use 'string' instead.\n",
      "  finish_tag = row.find(text='Finish:').find_next('p')\n",
      "C:\\Users\\Owner\\AppData\\Local\\Temp\\ipykernel_15088\\1759385609.py:44: DeprecationWarning: The 'text' argument to find()-type methods is deprecated. Use 'string' instead.\n",
      "  rarity_tag = row.find(text='Rarity:').find_next('p')\n",
      "C:\\Users\\Owner\\AppData\\Local\\Temp\\ipykernel_15088\\1759385609.py:49: DeprecationWarning: The 'text' argument to find()-type methods is deprecated. Use 'string' instead.\n",
      "  status_tag = row.find(text='Status:').find_next('p')\n"
     ]
    },
    {
     "name": "stdout",
     "output_type": "stream",
     "text": [
      "Flight of Fancy\n",
      "not existing_entry\n",
      "Flight+of+Fancy\n",
      "2\n"
     ]
    },
    {
     "name": "stderr",
     "output_type": "stream",
     "text": [
      "C:\\Users\\Owner\\AppData\\Local\\Temp\\ipykernel_15088\\1759385609.py:17: DeprecationWarning: The 'text' argument to find()-type methods is deprecated. Use 'string' instead.\n",
      "  brand_tag = row.find(text='Brand:').find_next('p')\n",
      "C:\\Users\\Owner\\AppData\\Local\\Temp\\ipykernel_15088\\1759385609.py:22: DeprecationWarning: The 'text' argument to find()-type methods is deprecated. Use 'string' instead.\n",
      "  set_tag = row.find(text='Set:').find_next('p')\n",
      "C:\\Users\\Owner\\AppData\\Local\\Temp\\ipykernel_15088\\1759385609.py:27: DeprecationWarning: The 'text' argument to find()-type methods is deprecated. Use 'string' instead.\n",
      "  set_link_tag = row.find('p', class_='item-text', text='Set:').find_next('a')\n",
      "C:\\Users\\Owner\\AppData\\Local\\Temp\\ipykernel_15088\\1759385609.py:34: DeprecationWarning: The 'text' argument to find()-type methods is deprecated. Use 'string' instead.\n",
      "  language_tag = row.find(text='Language:').find_next('p')\n",
      "C:\\Users\\Owner\\AppData\\Local\\Temp\\ipykernel_15088\\1759385609.py:39: DeprecationWarning: The 'text' argument to find()-type methods is deprecated. Use 'string' instead.\n",
      "  finish_tag = row.find(text='Finish:').find_next('p')\n",
      "C:\\Users\\Owner\\AppData\\Local\\Temp\\ipykernel_15088\\1759385609.py:44: DeprecationWarning: The 'text' argument to find()-type methods is deprecated. Use 'string' instead.\n",
      "  rarity_tag = row.find(text='Rarity:').find_next('p')\n",
      "C:\\Users\\Owner\\AppData\\Local\\Temp\\ipykernel_15088\\1759385609.py:49: DeprecationWarning: The 'text' argument to find()-type methods is deprecated. Use 'string' instead.\n",
      "  status_tag = row.find(text='Status:').find_next('p')\n"
     ]
    },
    {
     "name": "stdout",
     "output_type": "stream",
     "text": [
      "Holistic Wisdom\n",
      "not existing_entry\n",
      "Holistic+Wisdom\n",
      "2\n"
     ]
    },
    {
     "name": "stderr",
     "output_type": "stream",
     "text": [
      "C:\\Users\\Owner\\AppData\\Local\\Temp\\ipykernel_15088\\1759385609.py:17: DeprecationWarning: The 'text' argument to find()-type methods is deprecated. Use 'string' instead.\n",
      "  brand_tag = row.find(text='Brand:').find_next('p')\n",
      "C:\\Users\\Owner\\AppData\\Local\\Temp\\ipykernel_15088\\1759385609.py:22: DeprecationWarning: The 'text' argument to find()-type methods is deprecated. Use 'string' instead.\n",
      "  set_tag = row.find(text='Set:').find_next('p')\n",
      "C:\\Users\\Owner\\AppData\\Local\\Temp\\ipykernel_15088\\1759385609.py:27: DeprecationWarning: The 'text' argument to find()-type methods is deprecated. Use 'string' instead.\n",
      "  set_link_tag = row.find('p', class_='item-text', text='Set:').find_next('a')\n",
      "C:\\Users\\Owner\\AppData\\Local\\Temp\\ipykernel_15088\\1759385609.py:34: DeprecationWarning: The 'text' argument to find()-type methods is deprecated. Use 'string' instead.\n",
      "  language_tag = row.find(text='Language:').find_next('p')\n",
      "C:\\Users\\Owner\\AppData\\Local\\Temp\\ipykernel_15088\\1759385609.py:39: DeprecationWarning: The 'text' argument to find()-type methods is deprecated. Use 'string' instead.\n",
      "  finish_tag = row.find(text='Finish:').find_next('p')\n",
      "C:\\Users\\Owner\\AppData\\Local\\Temp\\ipykernel_15088\\1759385609.py:44: DeprecationWarning: The 'text' argument to find()-type methods is deprecated. Use 'string' instead.\n",
      "  rarity_tag = row.find(text='Rarity:').find_next('p')\n",
      "C:\\Users\\Owner\\AppData\\Local\\Temp\\ipykernel_15088\\1759385609.py:49: DeprecationWarning: The 'text' argument to find()-type methods is deprecated. Use 'string' instead.\n",
      "  status_tag = row.find(text='Status:').find_next('p')\n"
     ]
    },
    {
     "name": "stdout",
     "output_type": "stream",
     "text": [
      "Well of Lost Dreams\n",
      "not existing_entry\n",
      "Well+of+Lost+Dreams\n",
      "2\n"
     ]
    },
    {
     "name": "stderr",
     "output_type": "stream",
     "text": [
      "C:\\Users\\Owner\\AppData\\Local\\Temp\\ipykernel_15088\\1759385609.py:17: DeprecationWarning: The 'text' argument to find()-type methods is deprecated. Use 'string' instead.\n",
      "  brand_tag = row.find(text='Brand:').find_next('p')\n",
      "C:\\Users\\Owner\\AppData\\Local\\Temp\\ipykernel_15088\\1759385609.py:22: DeprecationWarning: The 'text' argument to find()-type methods is deprecated. Use 'string' instead.\n",
      "  set_tag = row.find(text='Set:').find_next('p')\n",
      "C:\\Users\\Owner\\AppData\\Local\\Temp\\ipykernel_15088\\1759385609.py:27: DeprecationWarning: The 'text' argument to find()-type methods is deprecated. Use 'string' instead.\n",
      "  set_link_tag = row.find('p', class_='item-text', text='Set:').find_next('a')\n",
      "C:\\Users\\Owner\\AppData\\Local\\Temp\\ipykernel_15088\\1759385609.py:34: DeprecationWarning: The 'text' argument to find()-type methods is deprecated. Use 'string' instead.\n",
      "  language_tag = row.find(text='Language:').find_next('p')\n",
      "C:\\Users\\Owner\\AppData\\Local\\Temp\\ipykernel_15088\\1759385609.py:39: DeprecationWarning: The 'text' argument to find()-type methods is deprecated. Use 'string' instead.\n",
      "  finish_tag = row.find(text='Finish:').find_next('p')\n",
      "C:\\Users\\Owner\\AppData\\Local\\Temp\\ipykernel_15088\\1759385609.py:44: DeprecationWarning: The 'text' argument to find()-type methods is deprecated. Use 'string' instead.\n",
      "  rarity_tag = row.find(text='Rarity:').find_next('p')\n",
      "C:\\Users\\Owner\\AppData\\Local\\Temp\\ipykernel_15088\\1759385609.py:49: DeprecationWarning: The 'text' argument to find()-type methods is deprecated. Use 'string' instead.\n",
      "  status_tag = row.find(text='Status:').find_next('p')\n"
     ]
    },
    {
     "name": "stdout",
     "output_type": "stream",
     "text": [
      "Surge of Brilliance\n",
      "not existing_entry\n",
      "Surge+of+Brilliance\n",
      "2\n"
     ]
    },
    {
     "name": "stderr",
     "output_type": "stream",
     "text": [
      "C:\\Users\\Owner\\AppData\\Local\\Temp\\ipykernel_15088\\1759385609.py:17: DeprecationWarning: The 'text' argument to find()-type methods is deprecated. Use 'string' instead.\n",
      "  brand_tag = row.find(text='Brand:').find_next('p')\n",
      "C:\\Users\\Owner\\AppData\\Local\\Temp\\ipykernel_15088\\1759385609.py:22: DeprecationWarning: The 'text' argument to find()-type methods is deprecated. Use 'string' instead.\n",
      "  set_tag = row.find(text='Set:').find_next('p')\n",
      "C:\\Users\\Owner\\AppData\\Local\\Temp\\ipykernel_15088\\1759385609.py:27: DeprecationWarning: The 'text' argument to find()-type methods is deprecated. Use 'string' instead.\n",
      "  set_link_tag = row.find('p', class_='item-text', text='Set:').find_next('a')\n",
      "C:\\Users\\Owner\\AppData\\Local\\Temp\\ipykernel_15088\\1759385609.py:34: DeprecationWarning: The 'text' argument to find()-type methods is deprecated. Use 'string' instead.\n",
      "  language_tag = row.find(text='Language:').find_next('p')\n",
      "C:\\Users\\Owner\\AppData\\Local\\Temp\\ipykernel_15088\\1759385609.py:39: DeprecationWarning: The 'text' argument to find()-type methods is deprecated. Use 'string' instead.\n",
      "  finish_tag = row.find(text='Finish:').find_next('p')\n",
      "C:\\Users\\Owner\\AppData\\Local\\Temp\\ipykernel_15088\\1759385609.py:44: DeprecationWarning: The 'text' argument to find()-type methods is deprecated. Use 'string' instead.\n",
      "  rarity_tag = row.find(text='Rarity:').find_next('p')\n",
      "C:\\Users\\Owner\\AppData\\Local\\Temp\\ipykernel_15088\\1759385609.py:49: DeprecationWarning: The 'text' argument to find()-type methods is deprecated. Use 'string' instead.\n",
      "  status_tag = row.find(text='Status:').find_next('p')\n"
     ]
    },
    {
     "name": "stdout",
     "output_type": "stream",
     "text": [
      "Ziatora, the Incinerator\n",
      "not existing_entry\n",
      "Ziatora%2C+the+Incinerator\n",
      "2\n"
     ]
    },
    {
     "name": "stderr",
     "output_type": "stream",
     "text": [
      "C:\\Users\\Owner\\AppData\\Local\\Temp\\ipykernel_15088\\1759385609.py:17: DeprecationWarning: The 'text' argument to find()-type methods is deprecated. Use 'string' instead.\n",
      "  brand_tag = row.find(text='Brand:').find_next('p')\n",
      "C:\\Users\\Owner\\AppData\\Local\\Temp\\ipykernel_15088\\1759385609.py:22: DeprecationWarning: The 'text' argument to find()-type methods is deprecated. Use 'string' instead.\n",
      "  set_tag = row.find(text='Set:').find_next('p')\n",
      "C:\\Users\\Owner\\AppData\\Local\\Temp\\ipykernel_15088\\1759385609.py:27: DeprecationWarning: The 'text' argument to find()-type methods is deprecated. Use 'string' instead.\n",
      "  set_link_tag = row.find('p', class_='item-text', text='Set:').find_next('a')\n",
      "C:\\Users\\Owner\\AppData\\Local\\Temp\\ipykernel_15088\\1759385609.py:34: DeprecationWarning: The 'text' argument to find()-type methods is deprecated. Use 'string' instead.\n",
      "  language_tag = row.find(text='Language:').find_next('p')\n",
      "C:\\Users\\Owner\\AppData\\Local\\Temp\\ipykernel_15088\\1759385609.py:39: DeprecationWarning: The 'text' argument to find()-type methods is deprecated. Use 'string' instead.\n",
      "  finish_tag = row.find(text='Finish:').find_next('p')\n",
      "C:\\Users\\Owner\\AppData\\Local\\Temp\\ipykernel_15088\\1759385609.py:44: DeprecationWarning: The 'text' argument to find()-type methods is deprecated. Use 'string' instead.\n",
      "  rarity_tag = row.find(text='Rarity:').find_next('p')\n",
      "C:\\Users\\Owner\\AppData\\Local\\Temp\\ipykernel_15088\\1759385609.py:49: DeprecationWarning: The 'text' argument to find()-type methods is deprecated. Use 'string' instead.\n",
      "  status_tag = row.find(text='Status:').find_next('p')\n"
     ]
    },
    {
     "name": "stdout",
     "output_type": "stream",
     "text": [
      "Obyra's Attendants // Desperate Parry\n",
      "not existing_entry\n",
      "Obyra%27s+Attendants+%2F%2F+Desperate+Parry\n",
      "2\n"
     ]
    },
    {
     "name": "stderr",
     "output_type": "stream",
     "text": [
      "C:\\Users\\Owner\\AppData\\Local\\Temp\\ipykernel_15088\\1759385609.py:17: DeprecationWarning: The 'text' argument to find()-type methods is deprecated. Use 'string' instead.\n",
      "  brand_tag = row.find(text='Brand:').find_next('p')\n",
      "C:\\Users\\Owner\\AppData\\Local\\Temp\\ipykernel_15088\\1759385609.py:22: DeprecationWarning: The 'text' argument to find()-type methods is deprecated. Use 'string' instead.\n",
      "  set_tag = row.find(text='Set:').find_next('p')\n",
      "C:\\Users\\Owner\\AppData\\Local\\Temp\\ipykernel_15088\\1759385609.py:27: DeprecationWarning: The 'text' argument to find()-type methods is deprecated. Use 'string' instead.\n",
      "  set_link_tag = row.find('p', class_='item-text', text='Set:').find_next('a')\n",
      "C:\\Users\\Owner\\AppData\\Local\\Temp\\ipykernel_15088\\1759385609.py:34: DeprecationWarning: The 'text' argument to find()-type methods is deprecated. Use 'string' instead.\n",
      "  language_tag = row.find(text='Language:').find_next('p')\n",
      "C:\\Users\\Owner\\AppData\\Local\\Temp\\ipykernel_15088\\1759385609.py:39: DeprecationWarning: The 'text' argument to find()-type methods is deprecated. Use 'string' instead.\n",
      "  finish_tag = row.find(text='Finish:').find_next('p')\n",
      "C:\\Users\\Owner\\AppData\\Local\\Temp\\ipykernel_15088\\1759385609.py:44: DeprecationWarning: The 'text' argument to find()-type methods is deprecated. Use 'string' instead.\n",
      "  rarity_tag = row.find(text='Rarity:').find_next('p')\n",
      "C:\\Users\\Owner\\AppData\\Local\\Temp\\ipykernel_15088\\1759385609.py:49: DeprecationWarning: The 'text' argument to find()-type methods is deprecated. Use 'string' instead.\n",
      "  status_tag = row.find(text='Status:').find_next('p')\n"
     ]
    },
    {
     "name": "stdout",
     "output_type": "stream",
     "text": [
      "Reclamation Sage\n",
      "not existing_entry\n",
      "Reclamation+Sage\n",
      "2\n"
     ]
    },
    {
     "name": "stderr",
     "output_type": "stream",
     "text": [
      "C:\\Users\\Owner\\AppData\\Local\\Temp\\ipykernel_15088\\1759385609.py:17: DeprecationWarning: The 'text' argument to find()-type methods is deprecated. Use 'string' instead.\n",
      "  brand_tag = row.find(text='Brand:').find_next('p')\n",
      "C:\\Users\\Owner\\AppData\\Local\\Temp\\ipykernel_15088\\1759385609.py:22: DeprecationWarning: The 'text' argument to find()-type methods is deprecated. Use 'string' instead.\n",
      "  set_tag = row.find(text='Set:').find_next('p')\n",
      "C:\\Users\\Owner\\AppData\\Local\\Temp\\ipykernel_15088\\1759385609.py:27: DeprecationWarning: The 'text' argument to find()-type methods is deprecated. Use 'string' instead.\n",
      "  set_link_tag = row.find('p', class_='item-text', text='Set:').find_next('a')\n",
      "C:\\Users\\Owner\\AppData\\Local\\Temp\\ipykernel_15088\\1759385609.py:34: DeprecationWarning: The 'text' argument to find()-type methods is deprecated. Use 'string' instead.\n",
      "  language_tag = row.find(text='Language:').find_next('p')\n",
      "C:\\Users\\Owner\\AppData\\Local\\Temp\\ipykernel_15088\\1759385609.py:39: DeprecationWarning: The 'text' argument to find()-type methods is deprecated. Use 'string' instead.\n",
      "  finish_tag = row.find(text='Finish:').find_next('p')\n",
      "C:\\Users\\Owner\\AppData\\Local\\Temp\\ipykernel_15088\\1759385609.py:44: DeprecationWarning: The 'text' argument to find()-type methods is deprecated. Use 'string' instead.\n",
      "  rarity_tag = row.find(text='Rarity:').find_next('p')\n",
      "C:\\Users\\Owner\\AppData\\Local\\Temp\\ipykernel_15088\\1759385609.py:49: DeprecationWarning: The 'text' argument to find()-type methods is deprecated. Use 'string' instead.\n",
      "  status_tag = row.find(text='Status:').find_next('p')\n"
     ]
    },
    {
     "name": "stdout",
     "output_type": "stream",
     "text": [
      "Venerable Knight\n",
      "not existing_entry\n",
      "Venerable+Knight\n",
      "2\n"
     ]
    },
    {
     "name": "stderr",
     "output_type": "stream",
     "text": [
      "C:\\Users\\Owner\\AppData\\Local\\Temp\\ipykernel_15088\\1759385609.py:17: DeprecationWarning: The 'text' argument to find()-type methods is deprecated. Use 'string' instead.\n",
      "  brand_tag = row.find(text='Brand:').find_next('p')\n",
      "C:\\Users\\Owner\\AppData\\Local\\Temp\\ipykernel_15088\\1759385609.py:22: DeprecationWarning: The 'text' argument to find()-type methods is deprecated. Use 'string' instead.\n",
      "  set_tag = row.find(text='Set:').find_next('p')\n",
      "C:\\Users\\Owner\\AppData\\Local\\Temp\\ipykernel_15088\\1759385609.py:27: DeprecationWarning: The 'text' argument to find()-type methods is deprecated. Use 'string' instead.\n",
      "  set_link_tag = row.find('p', class_='item-text', text='Set:').find_next('a')\n",
      "C:\\Users\\Owner\\AppData\\Local\\Temp\\ipykernel_15088\\1759385609.py:34: DeprecationWarning: The 'text' argument to find()-type methods is deprecated. Use 'string' instead.\n",
      "  language_tag = row.find(text='Language:').find_next('p')\n",
      "C:\\Users\\Owner\\AppData\\Local\\Temp\\ipykernel_15088\\1759385609.py:39: DeprecationWarning: The 'text' argument to find()-type methods is deprecated. Use 'string' instead.\n",
      "  finish_tag = row.find(text='Finish:').find_next('p')\n",
      "C:\\Users\\Owner\\AppData\\Local\\Temp\\ipykernel_15088\\1759385609.py:44: DeprecationWarning: The 'text' argument to find()-type methods is deprecated. Use 'string' instead.\n",
      "  rarity_tag = row.find(text='Rarity:').find_next('p')\n",
      "C:\\Users\\Owner\\AppData\\Local\\Temp\\ipykernel_15088\\1759385609.py:49: DeprecationWarning: The 'text' argument to find()-type methods is deprecated. Use 'string' instead.\n",
      "  status_tag = row.find(text='Status:').find_next('p')\n"
     ]
    },
    {
     "name": "stdout",
     "output_type": "stream",
     "text": [
      "Wildcall\n",
      "not existing_entry\n",
      "Wildcall\n",
      "2\n"
     ]
    },
    {
     "name": "stderr",
     "output_type": "stream",
     "text": [
      "C:\\Users\\Owner\\AppData\\Local\\Temp\\ipykernel_15088\\1759385609.py:17: DeprecationWarning: The 'text' argument to find()-type methods is deprecated. Use 'string' instead.\n",
      "  brand_tag = row.find(text='Brand:').find_next('p')\n",
      "C:\\Users\\Owner\\AppData\\Local\\Temp\\ipykernel_15088\\1759385609.py:22: DeprecationWarning: The 'text' argument to find()-type methods is deprecated. Use 'string' instead.\n",
      "  set_tag = row.find(text='Set:').find_next('p')\n",
      "C:\\Users\\Owner\\AppData\\Local\\Temp\\ipykernel_15088\\1759385609.py:27: DeprecationWarning: The 'text' argument to find()-type methods is deprecated. Use 'string' instead.\n",
      "  set_link_tag = row.find('p', class_='item-text', text='Set:').find_next('a')\n",
      "C:\\Users\\Owner\\AppData\\Local\\Temp\\ipykernel_15088\\1759385609.py:34: DeprecationWarning: The 'text' argument to find()-type methods is deprecated. Use 'string' instead.\n",
      "  language_tag = row.find(text='Language:').find_next('p')\n",
      "C:\\Users\\Owner\\AppData\\Local\\Temp\\ipykernel_15088\\1759385609.py:39: DeprecationWarning: The 'text' argument to find()-type methods is deprecated. Use 'string' instead.\n",
      "  finish_tag = row.find(text='Finish:').find_next('p')\n",
      "C:\\Users\\Owner\\AppData\\Local\\Temp\\ipykernel_15088\\1759385609.py:44: DeprecationWarning: The 'text' argument to find()-type methods is deprecated. Use 'string' instead.\n",
      "  rarity_tag = row.find(text='Rarity:').find_next('p')\n",
      "C:\\Users\\Owner\\AppData\\Local\\Temp\\ipykernel_15088\\1759385609.py:49: DeprecationWarning: The 'text' argument to find()-type methods is deprecated. Use 'string' instead.\n",
      "  status_tag = row.find(text='Status:').find_next('p')\n"
     ]
    },
    {
     "name": "stdout",
     "output_type": "stream",
     "text": [
      "Skyknight Vanguard\n",
      "not existing_entry\n",
      "Skyknight+Vanguard\n",
      "2\n"
     ]
    },
    {
     "name": "stderr",
     "output_type": "stream",
     "text": [
      "C:\\Users\\Owner\\AppData\\Local\\Temp\\ipykernel_15088\\1759385609.py:17: DeprecationWarning: The 'text' argument to find()-type methods is deprecated. Use 'string' instead.\n",
      "  brand_tag = row.find(text='Brand:').find_next('p')\n",
      "C:\\Users\\Owner\\AppData\\Local\\Temp\\ipykernel_15088\\1759385609.py:22: DeprecationWarning: The 'text' argument to find()-type methods is deprecated. Use 'string' instead.\n",
      "  set_tag = row.find(text='Set:').find_next('p')\n",
      "C:\\Users\\Owner\\AppData\\Local\\Temp\\ipykernel_15088\\1759385609.py:27: DeprecationWarning: The 'text' argument to find()-type methods is deprecated. Use 'string' instead.\n",
      "  set_link_tag = row.find('p', class_='item-text', text='Set:').find_next('a')\n",
      "C:\\Users\\Owner\\AppData\\Local\\Temp\\ipykernel_15088\\1759385609.py:34: DeprecationWarning: The 'text' argument to find()-type methods is deprecated. Use 'string' instead.\n",
      "  language_tag = row.find(text='Language:').find_next('p')\n",
      "C:\\Users\\Owner\\AppData\\Local\\Temp\\ipykernel_15088\\1759385609.py:39: DeprecationWarning: The 'text' argument to find()-type methods is deprecated. Use 'string' instead.\n",
      "  finish_tag = row.find(text='Finish:').find_next('p')\n",
      "C:\\Users\\Owner\\AppData\\Local\\Temp\\ipykernel_15088\\1759385609.py:44: DeprecationWarning: The 'text' argument to find()-type methods is deprecated. Use 'string' instead.\n",
      "  rarity_tag = row.find(text='Rarity:').find_next('p')\n",
      "C:\\Users\\Owner\\AppData\\Local\\Temp\\ipykernel_15088\\1759385609.py:49: DeprecationWarning: The 'text' argument to find()-type methods is deprecated. Use 'string' instead.\n",
      "  status_tag = row.find(text='Status:').find_next('p')\n"
     ]
    },
    {
     "name": "stdout",
     "output_type": "stream",
     "text": [
      "Flamekin Bladewhirl\n",
      "not existing_entry\n",
      "Flamekin+Bladewhirl\n",
      "2\n"
     ]
    },
    {
     "name": "stderr",
     "output_type": "stream",
     "text": [
      "C:\\Users\\Owner\\AppData\\Local\\Temp\\ipykernel_15088\\1759385609.py:17: DeprecationWarning: The 'text' argument to find()-type methods is deprecated. Use 'string' instead.\n",
      "  brand_tag = row.find(text='Brand:').find_next('p')\n",
      "C:\\Users\\Owner\\AppData\\Local\\Temp\\ipykernel_15088\\1759385609.py:22: DeprecationWarning: The 'text' argument to find()-type methods is deprecated. Use 'string' instead.\n",
      "  set_tag = row.find(text='Set:').find_next('p')\n",
      "C:\\Users\\Owner\\AppData\\Local\\Temp\\ipykernel_15088\\1759385609.py:27: DeprecationWarning: The 'text' argument to find()-type methods is deprecated. Use 'string' instead.\n",
      "  set_link_tag = row.find('p', class_='item-text', text='Set:').find_next('a')\n",
      "C:\\Users\\Owner\\AppData\\Local\\Temp\\ipykernel_15088\\1759385609.py:34: DeprecationWarning: The 'text' argument to find()-type methods is deprecated. Use 'string' instead.\n",
      "  language_tag = row.find(text='Language:').find_next('p')\n",
      "C:\\Users\\Owner\\AppData\\Local\\Temp\\ipykernel_15088\\1759385609.py:39: DeprecationWarning: The 'text' argument to find()-type methods is deprecated. Use 'string' instead.\n",
      "  finish_tag = row.find(text='Finish:').find_next('p')\n",
      "C:\\Users\\Owner\\AppData\\Local\\Temp\\ipykernel_15088\\1759385609.py:44: DeprecationWarning: The 'text' argument to find()-type methods is deprecated. Use 'string' instead.\n",
      "  rarity_tag = row.find(text='Rarity:').find_next('p')\n",
      "C:\\Users\\Owner\\AppData\\Local\\Temp\\ipykernel_15088\\1759385609.py:49: DeprecationWarning: The 'text' argument to find()-type methods is deprecated. Use 'string' instead.\n",
      "  status_tag = row.find(text='Status:').find_next('p')\n"
     ]
    },
    {
     "name": "stdout",
     "output_type": "stream",
     "text": [
      "Ghastbark Twins\n",
      "not existing_entry\n",
      "Ghastbark+Twins\n",
      "2\n"
     ]
    },
    {
     "name": "stderr",
     "output_type": "stream",
     "text": [
      "C:\\Users\\Owner\\AppData\\Local\\Temp\\ipykernel_15088\\1759385609.py:17: DeprecationWarning: The 'text' argument to find()-type methods is deprecated. Use 'string' instead.\n",
      "  brand_tag = row.find(text='Brand:').find_next('p')\n",
      "C:\\Users\\Owner\\AppData\\Local\\Temp\\ipykernel_15088\\1759385609.py:22: DeprecationWarning: The 'text' argument to find()-type methods is deprecated. Use 'string' instead.\n",
      "  set_tag = row.find(text='Set:').find_next('p')\n",
      "C:\\Users\\Owner\\AppData\\Local\\Temp\\ipykernel_15088\\1759385609.py:27: DeprecationWarning: The 'text' argument to find()-type methods is deprecated. Use 'string' instead.\n",
      "  set_link_tag = row.find('p', class_='item-text', text='Set:').find_next('a')\n",
      "C:\\Users\\Owner\\AppData\\Local\\Temp\\ipykernel_15088\\1759385609.py:34: DeprecationWarning: The 'text' argument to find()-type methods is deprecated. Use 'string' instead.\n",
      "  language_tag = row.find(text='Language:').find_next('p')\n",
      "C:\\Users\\Owner\\AppData\\Local\\Temp\\ipykernel_15088\\1759385609.py:39: DeprecationWarning: The 'text' argument to find()-type methods is deprecated. Use 'string' instead.\n",
      "  finish_tag = row.find(text='Finish:').find_next('p')\n",
      "C:\\Users\\Owner\\AppData\\Local\\Temp\\ipykernel_15088\\1759385609.py:44: DeprecationWarning: The 'text' argument to find()-type methods is deprecated. Use 'string' instead.\n",
      "  rarity_tag = row.find(text='Rarity:').find_next('p')\n",
      "C:\\Users\\Owner\\AppData\\Local\\Temp\\ipykernel_15088\\1759385609.py:49: DeprecationWarning: The 'text' argument to find()-type methods is deprecated. Use 'string' instead.\n",
      "  status_tag = row.find(text='Status:').find_next('p')\n"
     ]
    },
    {
     "name": "stdout",
     "output_type": "stream",
     "text": [
      "Mystic Skyfish\n",
      "not existing_entry\n",
      "Mystic+Skyfish\n",
      "2\n"
     ]
    },
    {
     "name": "stderr",
     "output_type": "stream",
     "text": [
      "C:\\Users\\Owner\\AppData\\Local\\Temp\\ipykernel_15088\\1759385609.py:17: DeprecationWarning: The 'text' argument to find()-type methods is deprecated. Use 'string' instead.\n",
      "  brand_tag = row.find(text='Brand:').find_next('p')\n",
      "C:\\Users\\Owner\\AppData\\Local\\Temp\\ipykernel_15088\\1759385609.py:22: DeprecationWarning: The 'text' argument to find()-type methods is deprecated. Use 'string' instead.\n",
      "  set_tag = row.find(text='Set:').find_next('p')\n",
      "C:\\Users\\Owner\\AppData\\Local\\Temp\\ipykernel_15088\\1759385609.py:27: DeprecationWarning: The 'text' argument to find()-type methods is deprecated. Use 'string' instead.\n",
      "  set_link_tag = row.find('p', class_='item-text', text='Set:').find_next('a')\n",
      "C:\\Users\\Owner\\AppData\\Local\\Temp\\ipykernel_15088\\1759385609.py:34: DeprecationWarning: The 'text' argument to find()-type methods is deprecated. Use 'string' instead.\n",
      "  language_tag = row.find(text='Language:').find_next('p')\n",
      "C:\\Users\\Owner\\AppData\\Local\\Temp\\ipykernel_15088\\1759385609.py:39: DeprecationWarning: The 'text' argument to find()-type methods is deprecated. Use 'string' instead.\n",
      "  finish_tag = row.find(text='Finish:').find_next('p')\n",
      "C:\\Users\\Owner\\AppData\\Local\\Temp\\ipykernel_15088\\1759385609.py:44: DeprecationWarning: The 'text' argument to find()-type methods is deprecated. Use 'string' instead.\n",
      "  rarity_tag = row.find(text='Rarity:').find_next('p')\n",
      "C:\\Users\\Owner\\AppData\\Local\\Temp\\ipykernel_15088\\1759385609.py:49: DeprecationWarning: The 'text' argument to find()-type methods is deprecated. Use 'string' instead.\n",
      "  status_tag = row.find(text='Status:').find_next('p')\n"
     ]
    },
    {
     "name": "stdout",
     "output_type": "stream",
     "text": [
      "Glacian, Powerstone Engineer\n",
      "not existing_entry\n",
      "Glacian%2C+Powerstone+Engineer\n",
      "2\n"
     ]
    },
    {
     "name": "stderr",
     "output_type": "stream",
     "text": [
      "C:\\Users\\Owner\\AppData\\Local\\Temp\\ipykernel_15088\\1759385609.py:17: DeprecationWarning: The 'text' argument to find()-type methods is deprecated. Use 'string' instead.\n",
      "  brand_tag = row.find(text='Brand:').find_next('p')\n",
      "C:\\Users\\Owner\\AppData\\Local\\Temp\\ipykernel_15088\\1759385609.py:22: DeprecationWarning: The 'text' argument to find()-type methods is deprecated. Use 'string' instead.\n",
      "  set_tag = row.find(text='Set:').find_next('p')\n",
      "C:\\Users\\Owner\\AppData\\Local\\Temp\\ipykernel_15088\\1759385609.py:27: DeprecationWarning: The 'text' argument to find()-type methods is deprecated. Use 'string' instead.\n",
      "  set_link_tag = row.find('p', class_='item-text', text='Set:').find_next('a')\n",
      "C:\\Users\\Owner\\AppData\\Local\\Temp\\ipykernel_15088\\1759385609.py:34: DeprecationWarning: The 'text' argument to find()-type methods is deprecated. Use 'string' instead.\n",
      "  language_tag = row.find(text='Language:').find_next('p')\n",
      "C:\\Users\\Owner\\AppData\\Local\\Temp\\ipykernel_15088\\1759385609.py:39: DeprecationWarning: The 'text' argument to find()-type methods is deprecated. Use 'string' instead.\n",
      "  finish_tag = row.find(text='Finish:').find_next('p')\n",
      "C:\\Users\\Owner\\AppData\\Local\\Temp\\ipykernel_15088\\1759385609.py:44: DeprecationWarning: The 'text' argument to find()-type methods is deprecated. Use 'string' instead.\n",
      "  rarity_tag = row.find(text='Rarity:').find_next('p')\n",
      "C:\\Users\\Owner\\AppData\\Local\\Temp\\ipykernel_15088\\1759385609.py:49: DeprecationWarning: The 'text' argument to find()-type methods is deprecated. Use 'string' instead.\n",
      "  status_tag = row.find(text='Status:').find_next('p')\n"
     ]
    },
    {
     "name": "stdout",
     "output_type": "stream",
     "text": [
      "Swamp\n",
      "not existing_entry\n",
      "Swamp\n",
      "22\n"
     ]
    },
    {
     "name": "stderr",
     "output_type": "stream",
     "text": [
      "C:\\Users\\Owner\\AppData\\Local\\Temp\\ipykernel_15088\\1759385609.py:17: DeprecationWarning: The 'text' argument to find()-type methods is deprecated. Use 'string' instead.\n",
      "  brand_tag = row.find(text='Brand:').find_next('p')\n",
      "C:\\Users\\Owner\\AppData\\Local\\Temp\\ipykernel_15088\\1759385609.py:22: DeprecationWarning: The 'text' argument to find()-type methods is deprecated. Use 'string' instead.\n",
      "  set_tag = row.find(text='Set:').find_next('p')\n",
      "C:\\Users\\Owner\\AppData\\Local\\Temp\\ipykernel_15088\\1759385609.py:27: DeprecationWarning: The 'text' argument to find()-type methods is deprecated. Use 'string' instead.\n",
      "  set_link_tag = row.find('p', class_='item-text', text='Set:').find_next('a')\n",
      "C:\\Users\\Owner\\AppData\\Local\\Temp\\ipykernel_15088\\1759385609.py:34: DeprecationWarning: The 'text' argument to find()-type methods is deprecated. Use 'string' instead.\n",
      "  language_tag = row.find(text='Language:').find_next('p')\n",
      "C:\\Users\\Owner\\AppData\\Local\\Temp\\ipykernel_15088\\1759385609.py:39: DeprecationWarning: The 'text' argument to find()-type methods is deprecated. Use 'string' instead.\n",
      "  finish_tag = row.find(text='Finish:').find_next('p')\n",
      "C:\\Users\\Owner\\AppData\\Local\\Temp\\ipykernel_15088\\1759385609.py:44: DeprecationWarning: The 'text' argument to find()-type methods is deprecated. Use 'string' instead.\n",
      "  rarity_tag = row.find(text='Rarity:').find_next('p')\n",
      "C:\\Users\\Owner\\AppData\\Local\\Temp\\ipykernel_15088\\1759385609.py:49: DeprecationWarning: The 'text' argument to find()-type methods is deprecated. Use 'string' instead.\n",
      "  status_tag = row.find(text='Status:').find_next('p')\n"
     ]
    },
    {
     "ename": "KeyboardInterrupt",
     "evalue": "",
     "output_type": "error",
     "traceback": [
      "\u001b[1;31m---------------------------------------------------------------------------\u001b[0m",
      "\u001b[1;31mKeyboardInterrupt\u001b[0m                         Traceback (most recent call last)",
      "Cell \u001b[1;32mIn[7], line 25\u001b[0m\n\u001b[0;32m     22\u001b[0m \u001b[38;5;28;01mif\u001b[39;00m \u001b[38;5;129;01mnot\u001b[39;00m maxpages:\n\u001b[0;32m     23\u001b[0m     \u001b[38;5;28;01mcontinue\u001b[39;00m\n\u001b[1;32m---> 25\u001b[0m data \u001b[38;5;241m=\u001b[39m \u001b[43mweb_scraper\u001b[49m\u001b[43m(\u001b[49m\u001b[43mparsed_txt\u001b[49m\u001b[43m,\u001b[49m\u001b[43m \u001b[49m\u001b[43mmaxpages\u001b[49m\u001b[43m)\u001b[49m\n\u001b[0;32m     27\u001b[0m \u001b[38;5;66;03m# display(data)\u001b[39;00m\n\u001b[0;32m     28\u001b[0m insert_db(cursor, data)\n",
      "Cell \u001b[1;32mIn[4], line 4\u001b[0m, in \u001b[0;36mweb_scraper\u001b[1;34m(parsed_txt, maxpages)\u001b[0m\n\u001b[0;32m      2\u001b[0m combined_df \u001b[38;5;241m=\u001b[39m pd\u001b[38;5;241m.\u001b[39mDataFrame()\n\u001b[0;32m      3\u001b[0m \u001b[38;5;28;01mfor\u001b[39;00m i \u001b[38;5;129;01min\u001b[39;00m \u001b[38;5;28mrange\u001b[39m(\u001b[38;5;241m1\u001b[39m, maxpages):\n\u001b[1;32m----> 4\u001b[0m     response \u001b[38;5;241m=\u001b[39m \u001b[43mrequests\u001b[49m\u001b[38;5;241;43m.\u001b[39;49m\u001b[43mget\u001b[49m\u001b[43m(\u001b[49m\u001b[38;5;124;43mf\u001b[39;49m\u001b[38;5;124;43m'\u001b[39;49m\u001b[38;5;124;43mhttps://www.classroomtgc.com/Product/Index2?type=sell&item_name=\u001b[39;49m\u001b[38;5;132;43;01m{\u001b[39;49;00m\u001b[43mparsed_txt\u001b[49m\u001b[38;5;132;43;01m}\u001b[39;49;00m\u001b[38;5;124;43m&item_brand=&before_price=0&after_price=0&page_number=\u001b[39;49m\u001b[38;5;132;43;01m{\u001b[39;49;00m\u001b[43mi\u001b[49m\u001b[38;5;132;43;01m}\u001b[39;49;00m\u001b[38;5;124;43m&record_number=60&sort_by=\u001b[39;49m\u001b[38;5;124;43m'\u001b[39;49m\u001b[43m)\u001b[49m\n\u001b[0;32m      6\u001b[0m     \u001b[38;5;28;01mif\u001b[39;00m \u001b[38;5;129;01mnot\u001b[39;00m response\u001b[38;5;241m.\u001b[39mstatus_code \u001b[38;5;241m==\u001b[39m \u001b[38;5;241m200\u001b[39m:\n\u001b[0;32m      7\u001b[0m         \u001b[38;5;28;01mcontinue\u001b[39;00m\n",
      "File \u001b[1;32md:\\anaconda\\envs\\mtgscrapper\\lib\\site-packages\\requests\\api.py:73\u001b[0m, in \u001b[0;36mget\u001b[1;34m(url, params, **kwargs)\u001b[0m\n\u001b[0;32m     62\u001b[0m \u001b[38;5;28;01mdef\u001b[39;00m \u001b[38;5;21mget\u001b[39m(url, params\u001b[38;5;241m=\u001b[39m\u001b[38;5;28;01mNone\u001b[39;00m, \u001b[38;5;241m*\u001b[39m\u001b[38;5;241m*\u001b[39mkwargs):\n\u001b[0;32m     63\u001b[0m \u001b[38;5;250m    \u001b[39m\u001b[38;5;124mr\u001b[39m\u001b[38;5;124;03m\"\"\"Sends a GET request.\u001b[39;00m\n\u001b[0;32m     64\u001b[0m \n\u001b[0;32m     65\u001b[0m \u001b[38;5;124;03m    :param url: URL for the new :class:`Request` object.\u001b[39;00m\n\u001b[1;32m   (...)\u001b[0m\n\u001b[0;32m     70\u001b[0m \u001b[38;5;124;03m    :rtype: requests.Response\u001b[39;00m\n\u001b[0;32m     71\u001b[0m \u001b[38;5;124;03m    \"\"\"\u001b[39;00m\n\u001b[1;32m---> 73\u001b[0m     \u001b[38;5;28;01mreturn\u001b[39;00m request(\u001b[38;5;124m\"\u001b[39m\u001b[38;5;124mget\u001b[39m\u001b[38;5;124m\"\u001b[39m, url, params\u001b[38;5;241m=\u001b[39mparams, \u001b[38;5;241m*\u001b[39m\u001b[38;5;241m*\u001b[39mkwargs)\n",
      "File \u001b[1;32md:\\anaconda\\envs\\mtgscrapper\\lib\\site-packages\\requests\\api.py:59\u001b[0m, in \u001b[0;36mrequest\u001b[1;34m(method, url, **kwargs)\u001b[0m\n\u001b[0;32m     55\u001b[0m \u001b[38;5;66;03m# By using the 'with' statement we are sure the session is closed, thus we\u001b[39;00m\n\u001b[0;32m     56\u001b[0m \u001b[38;5;66;03m# avoid leaving sockets open which can trigger a ResourceWarning in some\u001b[39;00m\n\u001b[0;32m     57\u001b[0m \u001b[38;5;66;03m# cases, and look like a memory leak in others.\u001b[39;00m\n\u001b[0;32m     58\u001b[0m \u001b[38;5;28;01mwith\u001b[39;00m sessions\u001b[38;5;241m.\u001b[39mSession() \u001b[38;5;28;01mas\u001b[39;00m session:\n\u001b[1;32m---> 59\u001b[0m     \u001b[38;5;28;01mreturn\u001b[39;00m session\u001b[38;5;241m.\u001b[39mrequest(method\u001b[38;5;241m=\u001b[39mmethod, url\u001b[38;5;241m=\u001b[39murl, \u001b[38;5;241m*\u001b[39m\u001b[38;5;241m*\u001b[39mkwargs)\n",
      "File \u001b[1;32md:\\anaconda\\envs\\mtgscrapper\\lib\\site-packages\\requests\\sessions.py:589\u001b[0m, in \u001b[0;36mSession.request\u001b[1;34m(self, method, url, params, data, headers, cookies, files, auth, timeout, allow_redirects, proxies, hooks, stream, verify, cert, json)\u001b[0m\n\u001b[0;32m    584\u001b[0m send_kwargs \u001b[38;5;241m=\u001b[39m {\n\u001b[0;32m    585\u001b[0m     \u001b[38;5;124m\"\u001b[39m\u001b[38;5;124mtimeout\u001b[39m\u001b[38;5;124m\"\u001b[39m: timeout,\n\u001b[0;32m    586\u001b[0m     \u001b[38;5;124m\"\u001b[39m\u001b[38;5;124mallow_redirects\u001b[39m\u001b[38;5;124m\"\u001b[39m: allow_redirects,\n\u001b[0;32m    587\u001b[0m }\n\u001b[0;32m    588\u001b[0m send_kwargs\u001b[38;5;241m.\u001b[39mupdate(settings)\n\u001b[1;32m--> 589\u001b[0m resp \u001b[38;5;241m=\u001b[39m \u001b[38;5;28mself\u001b[39m\u001b[38;5;241m.\u001b[39msend(prep, \u001b[38;5;241m*\u001b[39m\u001b[38;5;241m*\u001b[39msend_kwargs)\n\u001b[0;32m    591\u001b[0m \u001b[38;5;28;01mreturn\u001b[39;00m resp\n",
      "File \u001b[1;32md:\\anaconda\\envs\\mtgscrapper\\lib\\site-packages\\requests\\sessions.py:703\u001b[0m, in \u001b[0;36mSession.send\u001b[1;34m(self, request, **kwargs)\u001b[0m\n\u001b[0;32m    700\u001b[0m start \u001b[38;5;241m=\u001b[39m preferred_clock()\n\u001b[0;32m    702\u001b[0m \u001b[38;5;66;03m# Send the request\u001b[39;00m\n\u001b[1;32m--> 703\u001b[0m r \u001b[38;5;241m=\u001b[39m adapter\u001b[38;5;241m.\u001b[39msend(request, \u001b[38;5;241m*\u001b[39m\u001b[38;5;241m*\u001b[39mkwargs)\n\u001b[0;32m    705\u001b[0m \u001b[38;5;66;03m# Total elapsed time of the request (approximately)\u001b[39;00m\n\u001b[0;32m    706\u001b[0m elapsed \u001b[38;5;241m=\u001b[39m preferred_clock() \u001b[38;5;241m-\u001b[39m start\n",
      "File \u001b[1;32md:\\anaconda\\envs\\mtgscrapper\\lib\\site-packages\\requests\\adapters.py:667\u001b[0m, in \u001b[0;36mHTTPAdapter.send\u001b[1;34m(self, request, stream, timeout, verify, cert, proxies)\u001b[0m\n\u001b[0;32m    664\u001b[0m     timeout \u001b[38;5;241m=\u001b[39m TimeoutSauce(connect\u001b[38;5;241m=\u001b[39mtimeout, read\u001b[38;5;241m=\u001b[39mtimeout)\n\u001b[0;32m    666\u001b[0m \u001b[38;5;28;01mtry\u001b[39;00m:\n\u001b[1;32m--> 667\u001b[0m     resp \u001b[38;5;241m=\u001b[39m \u001b[43mconn\u001b[49m\u001b[38;5;241;43m.\u001b[39;49m\u001b[43murlopen\u001b[49m\u001b[43m(\u001b[49m\n\u001b[0;32m    668\u001b[0m \u001b[43m        \u001b[49m\u001b[43mmethod\u001b[49m\u001b[38;5;241;43m=\u001b[39;49m\u001b[43mrequest\u001b[49m\u001b[38;5;241;43m.\u001b[39;49m\u001b[43mmethod\u001b[49m\u001b[43m,\u001b[49m\n\u001b[0;32m    669\u001b[0m \u001b[43m        \u001b[49m\u001b[43murl\u001b[49m\u001b[38;5;241;43m=\u001b[39;49m\u001b[43murl\u001b[49m\u001b[43m,\u001b[49m\n\u001b[0;32m    670\u001b[0m \u001b[43m        \u001b[49m\u001b[43mbody\u001b[49m\u001b[38;5;241;43m=\u001b[39;49m\u001b[43mrequest\u001b[49m\u001b[38;5;241;43m.\u001b[39;49m\u001b[43mbody\u001b[49m\u001b[43m,\u001b[49m\n\u001b[0;32m    671\u001b[0m \u001b[43m        \u001b[49m\u001b[43mheaders\u001b[49m\u001b[38;5;241;43m=\u001b[39;49m\u001b[43mrequest\u001b[49m\u001b[38;5;241;43m.\u001b[39;49m\u001b[43mheaders\u001b[49m\u001b[43m,\u001b[49m\n\u001b[0;32m    672\u001b[0m \u001b[43m        \u001b[49m\u001b[43mredirect\u001b[49m\u001b[38;5;241;43m=\u001b[39;49m\u001b[38;5;28;43;01mFalse\u001b[39;49;00m\u001b[43m,\u001b[49m\n\u001b[0;32m    673\u001b[0m \u001b[43m        \u001b[49m\u001b[43massert_same_host\u001b[49m\u001b[38;5;241;43m=\u001b[39;49m\u001b[38;5;28;43;01mFalse\u001b[39;49;00m\u001b[43m,\u001b[49m\n\u001b[0;32m    674\u001b[0m \u001b[43m        \u001b[49m\u001b[43mpreload_content\u001b[49m\u001b[38;5;241;43m=\u001b[39;49m\u001b[38;5;28;43;01mFalse\u001b[39;49;00m\u001b[43m,\u001b[49m\n\u001b[0;32m    675\u001b[0m \u001b[43m        \u001b[49m\u001b[43mdecode_content\u001b[49m\u001b[38;5;241;43m=\u001b[39;49m\u001b[38;5;28;43;01mFalse\u001b[39;49;00m\u001b[43m,\u001b[49m\n\u001b[0;32m    676\u001b[0m \u001b[43m        \u001b[49m\u001b[43mretries\u001b[49m\u001b[38;5;241;43m=\u001b[39;49m\u001b[38;5;28;43mself\u001b[39;49m\u001b[38;5;241;43m.\u001b[39;49m\u001b[43mmax_retries\u001b[49m\u001b[43m,\u001b[49m\n\u001b[0;32m    677\u001b[0m \u001b[43m        \u001b[49m\u001b[43mtimeout\u001b[49m\u001b[38;5;241;43m=\u001b[39;49m\u001b[43mtimeout\u001b[49m\u001b[43m,\u001b[49m\n\u001b[0;32m    678\u001b[0m \u001b[43m        \u001b[49m\u001b[43mchunked\u001b[49m\u001b[38;5;241;43m=\u001b[39;49m\u001b[43mchunked\u001b[49m\u001b[43m,\u001b[49m\n\u001b[0;32m    679\u001b[0m \u001b[43m    \u001b[49m\u001b[43m)\u001b[49m\n\u001b[0;32m    681\u001b[0m \u001b[38;5;28;01mexcept\u001b[39;00m (ProtocolError, \u001b[38;5;167;01mOSError\u001b[39;00m) \u001b[38;5;28;01mas\u001b[39;00m err:\n\u001b[0;32m    682\u001b[0m     \u001b[38;5;28;01mraise\u001b[39;00m \u001b[38;5;167;01mConnectionError\u001b[39;00m(err, request\u001b[38;5;241m=\u001b[39mrequest)\n",
      "File \u001b[1;32md:\\anaconda\\envs\\mtgscrapper\\lib\\site-packages\\urllib3\\connectionpool.py:789\u001b[0m, in \u001b[0;36mHTTPConnectionPool.urlopen\u001b[1;34m(self, method, url, body, headers, retries, redirect, assert_same_host, timeout, pool_timeout, release_conn, chunked, body_pos, preload_content, decode_content, **response_kw)\u001b[0m\n\u001b[0;32m    786\u001b[0m response_conn \u001b[38;5;241m=\u001b[39m conn \u001b[38;5;28;01mif\u001b[39;00m \u001b[38;5;129;01mnot\u001b[39;00m release_conn \u001b[38;5;28;01melse\u001b[39;00m \u001b[38;5;28;01mNone\u001b[39;00m\n\u001b[0;32m    788\u001b[0m \u001b[38;5;66;03m# Make the request on the HTTPConnection object\u001b[39;00m\n\u001b[1;32m--> 789\u001b[0m response \u001b[38;5;241m=\u001b[39m \u001b[38;5;28mself\u001b[39m\u001b[38;5;241m.\u001b[39m_make_request(\n\u001b[0;32m    790\u001b[0m     conn,\n\u001b[0;32m    791\u001b[0m     method,\n\u001b[0;32m    792\u001b[0m     url,\n\u001b[0;32m    793\u001b[0m     timeout\u001b[38;5;241m=\u001b[39mtimeout_obj,\n\u001b[0;32m    794\u001b[0m     body\u001b[38;5;241m=\u001b[39mbody,\n\u001b[0;32m    795\u001b[0m     headers\u001b[38;5;241m=\u001b[39mheaders,\n\u001b[0;32m    796\u001b[0m     chunked\u001b[38;5;241m=\u001b[39mchunked,\n\u001b[0;32m    797\u001b[0m     retries\u001b[38;5;241m=\u001b[39mretries,\n\u001b[0;32m    798\u001b[0m     response_conn\u001b[38;5;241m=\u001b[39mresponse_conn,\n\u001b[0;32m    799\u001b[0m     preload_content\u001b[38;5;241m=\u001b[39mpreload_content,\n\u001b[0;32m    800\u001b[0m     decode_content\u001b[38;5;241m=\u001b[39mdecode_content,\n\u001b[0;32m    801\u001b[0m     \u001b[38;5;241m*\u001b[39m\u001b[38;5;241m*\u001b[39mresponse_kw,\n\u001b[0;32m    802\u001b[0m )\n\u001b[0;32m    804\u001b[0m \u001b[38;5;66;03m# Everything went great!\u001b[39;00m\n\u001b[0;32m    805\u001b[0m clean_exit \u001b[38;5;241m=\u001b[39m \u001b[38;5;28;01mTrue\u001b[39;00m\n",
      "File \u001b[1;32md:\\anaconda\\envs\\mtgscrapper\\lib\\site-packages\\urllib3\\connectionpool.py:536\u001b[0m, in \u001b[0;36mHTTPConnectionPool._make_request\u001b[1;34m(self, conn, method, url, body, headers, retries, timeout, chunked, response_conn, preload_content, decode_content, enforce_content_length)\u001b[0m\n\u001b[0;32m    534\u001b[0m \u001b[38;5;66;03m# Receive the response from the server\u001b[39;00m\n\u001b[0;32m    535\u001b[0m \u001b[38;5;28;01mtry\u001b[39;00m:\n\u001b[1;32m--> 536\u001b[0m     response \u001b[38;5;241m=\u001b[39m \u001b[43mconn\u001b[49m\u001b[38;5;241;43m.\u001b[39;49m\u001b[43mgetresponse\u001b[49m\u001b[43m(\u001b[49m\u001b[43m)\u001b[49m\n\u001b[0;32m    537\u001b[0m \u001b[38;5;28;01mexcept\u001b[39;00m (BaseSSLError, \u001b[38;5;167;01mOSError\u001b[39;00m) \u001b[38;5;28;01mas\u001b[39;00m e:\n\u001b[0;32m    538\u001b[0m     \u001b[38;5;28mself\u001b[39m\u001b[38;5;241m.\u001b[39m_raise_timeout(err\u001b[38;5;241m=\u001b[39me, url\u001b[38;5;241m=\u001b[39murl, timeout_value\u001b[38;5;241m=\u001b[39mread_timeout)\n",
      "File \u001b[1;32md:\\anaconda\\envs\\mtgscrapper\\lib\\site-packages\\urllib3\\connection.py:507\u001b[0m, in \u001b[0;36mHTTPConnection.getresponse\u001b[1;34m(self)\u001b[0m\n\u001b[0;32m    504\u001b[0m \u001b[38;5;28;01mfrom\u001b[39;00m \u001b[38;5;21;01m.\u001b[39;00m\u001b[38;5;21;01mresponse\u001b[39;00m \u001b[38;5;28;01mimport\u001b[39;00m HTTPResponse\n\u001b[0;32m    506\u001b[0m \u001b[38;5;66;03m# Get the response from http.client.HTTPConnection\u001b[39;00m\n\u001b[1;32m--> 507\u001b[0m httplib_response \u001b[38;5;241m=\u001b[39m \u001b[38;5;28;43msuper\u001b[39;49m\u001b[43m(\u001b[49m\u001b[43m)\u001b[49m\u001b[38;5;241;43m.\u001b[39;49m\u001b[43mgetresponse\u001b[49m\u001b[43m(\u001b[49m\u001b[43m)\u001b[49m\n\u001b[0;32m    509\u001b[0m \u001b[38;5;28;01mtry\u001b[39;00m:\n\u001b[0;32m    510\u001b[0m     assert_header_parsing(httplib_response\u001b[38;5;241m.\u001b[39mmsg)\n",
      "File \u001b[1;32md:\\anaconda\\envs\\mtgscrapper\\lib\\http\\client.py:1375\u001b[0m, in \u001b[0;36mHTTPConnection.getresponse\u001b[1;34m(self)\u001b[0m\n\u001b[0;32m   1373\u001b[0m \u001b[38;5;28;01mtry\u001b[39;00m:\n\u001b[0;32m   1374\u001b[0m     \u001b[38;5;28;01mtry\u001b[39;00m:\n\u001b[1;32m-> 1375\u001b[0m         \u001b[43mresponse\u001b[49m\u001b[38;5;241;43m.\u001b[39;49m\u001b[43mbegin\u001b[49m\u001b[43m(\u001b[49m\u001b[43m)\u001b[49m\n\u001b[0;32m   1376\u001b[0m     \u001b[38;5;28;01mexcept\u001b[39;00m \u001b[38;5;167;01mConnectionError\u001b[39;00m:\n\u001b[0;32m   1377\u001b[0m         \u001b[38;5;28mself\u001b[39m\u001b[38;5;241m.\u001b[39mclose()\n",
      "File \u001b[1;32md:\\anaconda\\envs\\mtgscrapper\\lib\\http\\client.py:318\u001b[0m, in \u001b[0;36mHTTPResponse.begin\u001b[1;34m(self)\u001b[0m\n\u001b[0;32m    316\u001b[0m \u001b[38;5;66;03m# read until we get a non-100 response\u001b[39;00m\n\u001b[0;32m    317\u001b[0m \u001b[38;5;28;01mwhile\u001b[39;00m \u001b[38;5;28;01mTrue\u001b[39;00m:\n\u001b[1;32m--> 318\u001b[0m     version, status, reason \u001b[38;5;241m=\u001b[39m \u001b[38;5;28;43mself\u001b[39;49m\u001b[38;5;241;43m.\u001b[39;49m\u001b[43m_read_status\u001b[49m\u001b[43m(\u001b[49m\u001b[43m)\u001b[49m\n\u001b[0;32m    319\u001b[0m     \u001b[38;5;28;01mif\u001b[39;00m status \u001b[38;5;241m!=\u001b[39m CONTINUE:\n\u001b[0;32m    320\u001b[0m         \u001b[38;5;28;01mbreak\u001b[39;00m\n",
      "File \u001b[1;32md:\\anaconda\\envs\\mtgscrapper\\lib\\http\\client.py:279\u001b[0m, in \u001b[0;36mHTTPResponse._read_status\u001b[1;34m(self)\u001b[0m\n\u001b[0;32m    278\u001b[0m \u001b[38;5;28;01mdef\u001b[39;00m \u001b[38;5;21m_read_status\u001b[39m(\u001b[38;5;28mself\u001b[39m):\n\u001b[1;32m--> 279\u001b[0m     line \u001b[38;5;241m=\u001b[39m \u001b[38;5;28mstr\u001b[39m(\u001b[38;5;28;43mself\u001b[39;49m\u001b[38;5;241;43m.\u001b[39;49m\u001b[43mfp\u001b[49m\u001b[38;5;241;43m.\u001b[39;49m\u001b[43mreadline\u001b[49m\u001b[43m(\u001b[49m\u001b[43m_MAXLINE\u001b[49m\u001b[43m \u001b[49m\u001b[38;5;241;43m+\u001b[39;49m\u001b[43m \u001b[49m\u001b[38;5;241;43m1\u001b[39;49m\u001b[43m)\u001b[49m, \u001b[38;5;124m\"\u001b[39m\u001b[38;5;124miso-8859-1\u001b[39m\u001b[38;5;124m\"\u001b[39m)\n\u001b[0;32m    280\u001b[0m     \u001b[38;5;28;01mif\u001b[39;00m \u001b[38;5;28mlen\u001b[39m(line) \u001b[38;5;241m>\u001b[39m _MAXLINE:\n\u001b[0;32m    281\u001b[0m         \u001b[38;5;28;01mraise\u001b[39;00m LineTooLong(\u001b[38;5;124m\"\u001b[39m\u001b[38;5;124mstatus line\u001b[39m\u001b[38;5;124m\"\u001b[39m)\n",
      "File \u001b[1;32md:\\anaconda\\envs\\mtgscrapper\\lib\\socket.py:717\u001b[0m, in \u001b[0;36mSocketIO.readinto\u001b[1;34m(self, b)\u001b[0m\n\u001b[0;32m    715\u001b[0m \u001b[38;5;28;01mwhile\u001b[39;00m \u001b[38;5;28;01mTrue\u001b[39;00m:\n\u001b[0;32m    716\u001b[0m     \u001b[38;5;28;01mtry\u001b[39;00m:\n\u001b[1;32m--> 717\u001b[0m         \u001b[38;5;28;01mreturn\u001b[39;00m \u001b[38;5;28;43mself\u001b[39;49m\u001b[38;5;241;43m.\u001b[39;49m\u001b[43m_sock\u001b[49m\u001b[38;5;241;43m.\u001b[39;49m\u001b[43mrecv_into\u001b[49m\u001b[43m(\u001b[49m\u001b[43mb\u001b[49m\u001b[43m)\u001b[49m\n\u001b[0;32m    718\u001b[0m     \u001b[38;5;28;01mexcept\u001b[39;00m timeout:\n\u001b[0;32m    719\u001b[0m         \u001b[38;5;28mself\u001b[39m\u001b[38;5;241m.\u001b[39m_timeout_occurred \u001b[38;5;241m=\u001b[39m \u001b[38;5;28;01mTrue\u001b[39;00m\n",
      "File \u001b[1;32md:\\anaconda\\envs\\mtgscrapper\\lib\\ssl.py:1307\u001b[0m, in \u001b[0;36mSSLSocket.recv_into\u001b[1;34m(self, buffer, nbytes, flags)\u001b[0m\n\u001b[0;32m   1303\u001b[0m     \u001b[38;5;28;01mif\u001b[39;00m flags \u001b[38;5;241m!=\u001b[39m \u001b[38;5;241m0\u001b[39m:\n\u001b[0;32m   1304\u001b[0m         \u001b[38;5;28;01mraise\u001b[39;00m \u001b[38;5;167;01mValueError\u001b[39;00m(\n\u001b[0;32m   1305\u001b[0m           \u001b[38;5;124m\"\u001b[39m\u001b[38;5;124mnon-zero flags not allowed in calls to recv_into() on \u001b[39m\u001b[38;5;132;01m%s\u001b[39;00m\u001b[38;5;124m\"\u001b[39m \u001b[38;5;241m%\u001b[39m\n\u001b[0;32m   1306\u001b[0m           \u001b[38;5;28mself\u001b[39m\u001b[38;5;241m.\u001b[39m\u001b[38;5;18m__class__\u001b[39m)\n\u001b[1;32m-> 1307\u001b[0m     \u001b[38;5;28;01mreturn\u001b[39;00m \u001b[38;5;28;43mself\u001b[39;49m\u001b[38;5;241;43m.\u001b[39;49m\u001b[43mread\u001b[49m\u001b[43m(\u001b[49m\u001b[43mnbytes\u001b[49m\u001b[43m,\u001b[49m\u001b[43m \u001b[49m\u001b[43mbuffer\u001b[49m\u001b[43m)\u001b[49m\n\u001b[0;32m   1308\u001b[0m \u001b[38;5;28;01melse\u001b[39;00m:\n\u001b[0;32m   1309\u001b[0m     \u001b[38;5;28;01mreturn\u001b[39;00m \u001b[38;5;28msuper\u001b[39m()\u001b[38;5;241m.\u001b[39mrecv_into(buffer, nbytes, flags)\n",
      "File \u001b[1;32md:\\anaconda\\envs\\mtgscrapper\\lib\\ssl.py:1163\u001b[0m, in \u001b[0;36mSSLSocket.read\u001b[1;34m(self, len, buffer)\u001b[0m\n\u001b[0;32m   1161\u001b[0m \u001b[38;5;28;01mtry\u001b[39;00m:\n\u001b[0;32m   1162\u001b[0m     \u001b[38;5;28;01mif\u001b[39;00m buffer \u001b[38;5;129;01mis\u001b[39;00m \u001b[38;5;129;01mnot\u001b[39;00m \u001b[38;5;28;01mNone\u001b[39;00m:\n\u001b[1;32m-> 1163\u001b[0m         \u001b[38;5;28;01mreturn\u001b[39;00m \u001b[38;5;28;43mself\u001b[39;49m\u001b[38;5;241;43m.\u001b[39;49m\u001b[43m_sslobj\u001b[49m\u001b[38;5;241;43m.\u001b[39;49m\u001b[43mread\u001b[49m\u001b[43m(\u001b[49m\u001b[38;5;28;43mlen\u001b[39;49m\u001b[43m,\u001b[49m\u001b[43m \u001b[49m\u001b[43mbuffer\u001b[49m\u001b[43m)\u001b[49m\n\u001b[0;32m   1164\u001b[0m     \u001b[38;5;28;01melse\u001b[39;00m:\n\u001b[0;32m   1165\u001b[0m         \u001b[38;5;28;01mreturn\u001b[39;00m \u001b[38;5;28mself\u001b[39m\u001b[38;5;241m.\u001b[39m_sslobj\u001b[38;5;241m.\u001b[39mread(\u001b[38;5;28mlen\u001b[39m)\n",
      "\u001b[1;31mKeyboardInterrupt\u001b[0m: "
     ]
    }
   ],
   "source": [
    "\n",
    "cursor = conn.cursor()\n",
    "\n",
    "with open('all-cards-20241118101926.json', 'r') as f:\n",
    "    # Use ijson's basic iterator to parse the file incrementally\n",
    "    objects = ijson.items(f, 'item')  # Replace 'item' with the correct key if needed\n",
    "    for obj in objects:\n",
    "        # Process each object one at a time\n",
    "        print(obj['name'])\n",
    "        existing_entry = cursor.execute('SELECT * FROM cards WHERE name = ?', (obj['name'],)).fetchone()\n",
    "        \n",
    "        if existing_entry:\n",
    "            continue\n",
    "        else:\n",
    "            print('not existing_entry')\n",
    "\n",
    "        parsed_txt = urllib.parse.quote(obj['name'], safe='')\n",
    "        parsed_txt = parsed_txt.replace('%20','+')\n",
    "        print(parsed_txt)\n",
    "        \n",
    "        maxpages = get_max_page(f'https://www.classroomtgc.com/Product/Index2?type=sell&item_name={parsed_txt}&item_brand=&before_price=0&after_price=0&page_number=1&record_number=60&sort_by=')\n",
    "        print(maxpages)\n",
    "        if not maxpages:\n",
    "            continue\n",
    "\n",
    "        data = web_scraper(parsed_txt, maxpages)\n",
    "\n",
    "        # display(data)\n",
    "        insert_db(cursor, data)\n",
    "        conn.commit()\n",
    "\n"
   ]
  },
  {
   "cell_type": "code",
   "execution_count": 38,
   "metadata": {},
   "outputs": [
    {
     "data": {
      "text/html": [
       "<div>\n",
       "<style scoped>\n",
       "    .dataframe tbody tr th:only-of-type {\n",
       "        vertical-align: middle;\n",
       "    }\n",
       "\n",
       "    .dataframe tbody tr th {\n",
       "        vertical-align: top;\n",
       "    }\n",
       "\n",
       "    .dataframe thead th {\n",
       "        text-align: right;\n",
       "    }\n",
       "</style>\n",
       "<table border=\"1\" class=\"dataframe\">\n",
       "  <thead>\n",
       "    <tr style=\"text-align: right;\">\n",
       "      <th></th>\n",
       "      <th>Name</th>\n",
       "      <th>Brand</th>\n",
       "      <th>Set</th>\n",
       "      <th>Product ID</th>\n",
       "      <th>Language</th>\n",
       "      <th>Finish</th>\n",
       "      <th>Rarity</th>\n",
       "      <th>Status</th>\n",
       "      <th>Stock Quantity</th>\n",
       "      <th>Stock Availability</th>\n",
       "      <th>Stock Price</th>\n",
       "    </tr>\n",
       "  </thead>\n",
       "  <tbody>\n",
       "    <tr>\n",
       "      <th>0</th>\n",
       "      <td>Admiral Beckett Brass</td>\n",
       "      <td>Magic: the Gathering</td>\n",
       "      <td>The List</td>\n",
       "      <td>2540</td>\n",
       "      <td>English</td>\n",
       "      <td>nonfoil</td>\n",
       "      <td>Mythic</td>\n",
       "      <td>Active</td>\n",
       "      <td>8</td>\n",
       "      <td>available</td>\n",
       "      <td>MYR 5</td>\n",
       "    </tr>\n",
       "    <tr>\n",
       "      <th>1</th>\n",
       "      <td>Admiral Beckett Brass</td>\n",
       "      <td>Magic: the Gathering</td>\n",
       "      <td>Ixalan</td>\n",
       "      <td>3030</td>\n",
       "      <td>English</td>\n",
       "      <td>nonfoil</td>\n",
       "      <td>Mythic</td>\n",
       "      <td>Active</td>\n",
       "      <td>8</td>\n",
       "      <td>available</td>\n",
       "      <td>MYR 5</td>\n",
       "    </tr>\n",
       "    <tr>\n",
       "      <th>2</th>\n",
       "      <td>Admiral Beckett Brass</td>\n",
       "      <td>Magic: the Gathering</td>\n",
       "      <td>Ixalan</td>\n",
       "      <td>3030</td>\n",
       "      <td>English</td>\n",
       "      <td>foil</td>\n",
       "      <td>Mythic</td>\n",
       "      <td>Active</td>\n",
       "      <td>0</td>\n",
       "      <td>0</td>\n",
       "      <td>MYR 31</td>\n",
       "    </tr>\n",
       "    <tr>\n",
       "      <th>3</th>\n",
       "      <td>Admiral Beckett Brass (Prerelease Datestamped)</td>\n",
       "      <td>Magic: the Gathering</td>\n",
       "      <td>Ixalan Promos</td>\n",
       "      <td>2944</td>\n",
       "      <td>English</td>\n",
       "      <td>foil</td>\n",
       "      <td>Mythic</td>\n",
       "      <td>Active</td>\n",
       "      <td>0</td>\n",
       "      <td>0</td>\n",
       "      <td>MYR 46</td>\n",
       "    </tr>\n",
       "    <tr>\n",
       "      <th>4</th>\n",
       "      <td>Admiral Beckett Brass</td>\n",
       "      <td>Magic: the Gathering</td>\n",
       "      <td>The Lost Caverns of Ixalan Commander</td>\n",
       "      <td>100042</td>\n",
       "      <td>English</td>\n",
       "      <td>nonfoil</td>\n",
       "      <td>Mythic</td>\n",
       "      <td>Active</td>\n",
       "      <td>0</td>\n",
       "      <td>0</td>\n",
       "      <td>MYR 5</td>\n",
       "    </tr>\n",
       "    <tr>\n",
       "      <th>5</th>\n",
       "      <td>Admiral Beckett Brass</td>\n",
       "      <td>Magic: the Gathering</td>\n",
       "      <td>The Lost Caverns of Ixalan Commander</td>\n",
       "      <td>100042</td>\n",
       "      <td>English</td>\n",
       "      <td>foil</td>\n",
       "      <td>Mythic</td>\n",
       "      <td>Active</td>\n",
       "      <td>0</td>\n",
       "      <td>0</td>\n",
       "      <td>MYR 6</td>\n",
       "    </tr>\n",
       "    <tr>\n",
       "      <th>6</th>\n",
       "      <td>Admiral Beckett Brass (Showcase)</td>\n",
       "      <td>Magic: the Gathering</td>\n",
       "      <td>Secret Lair Drop</td>\n",
       "      <td>2443</td>\n",
       "      <td>English</td>\n",
       "      <td>foil</td>\n",
       "      <td>Mythic</td>\n",
       "      <td>Active</td>\n",
       "      <td>0</td>\n",
       "      <td>0</td>\n",
       "      <td>MYR 6</td>\n",
       "    </tr>\n",
       "    <tr>\n",
       "      <th>7</th>\n",
       "      <td>Admiral Beckett Brass (Showcase)</td>\n",
       "      <td>Magic: the Gathering</td>\n",
       "      <td>Secret Lair Drop</td>\n",
       "      <td>2443</td>\n",
       "      <td>English</td>\n",
       "      <td>nonfoil</td>\n",
       "      <td>Mythic</td>\n",
       "      <td>Active</td>\n",
       "      <td>0</td>\n",
       "      <td>0</td>\n",
       "      <td>MYR 28</td>\n",
       "    </tr>\n",
       "    <tr>\n",
       "      <th>8</th>\n",
       "      <td>Admiral Beckett Brass (Showcase)</td>\n",
       "      <td>Magic: the Gathering</td>\n",
       "      <td>Secret Lair Drop</td>\n",
       "      <td>2443</td>\n",
       "      <td>English</td>\n",
       "      <td>foil</td>\n",
       "      <td>Mythic</td>\n",
       "      <td>Active</td>\n",
       "      <td>0</td>\n",
       "      <td>0</td>\n",
       "      <td>MYR 40</td>\n",
       "    </tr>\n",
       "    <tr>\n",
       "      <th>9</th>\n",
       "      <td>Admiral Beckett Brass (Showcase)</td>\n",
       "      <td>Magic: the Gathering</td>\n",
       "      <td>Secret Lair Drop</td>\n",
       "      <td>2443</td>\n",
       "      <td>English</td>\n",
       "      <td>foil</td>\n",
       "      <td>Mythic</td>\n",
       "      <td>Active</td>\n",
       "      <td>0</td>\n",
       "      <td>0</td>\n",
       "      <td>MYR 40</td>\n",
       "    </tr>\n",
       "    <tr>\n",
       "      <th>10</th>\n",
       "      <td>Admiral Beckett Brass (Showcase)</td>\n",
       "      <td>Magic: the Gathering</td>\n",
       "      <td>Secret Lair Drop</td>\n",
       "      <td>2443</td>\n",
       "      <td>English</td>\n",
       "      <td>foil</td>\n",
       "      <td>Mythic</td>\n",
       "      <td>Active</td>\n",
       "      <td>0</td>\n",
       "      <td>0</td>\n",
       "      <td>MYR 40</td>\n",
       "    </tr>\n",
       "    <tr>\n",
       "      <th>11</th>\n",
       "      <td>Admiral Beckett Brass (Edward, Jackdaw Captain...</td>\n",
       "      <td>Magic: the Gathering</td>\n",
       "      <td>Secret Lair Drop</td>\n",
       "      <td>2443</td>\n",
       "      <td>English</td>\n",
       "      <td>foil</td>\n",
       "      <td>Mythic</td>\n",
       "      <td>Active</td>\n",
       "      <td>0</td>\n",
       "      <td>0</td>\n",
       "      <td>MYR 6</td>\n",
       "    </tr>\n",
       "    <tr>\n",
       "      <th>12</th>\n",
       "      <td>Admiral Beckett Brass (Edward, Jackdaw Captain...</td>\n",
       "      <td>Magic: the Gathering</td>\n",
       "      <td>Secret Lair Drop</td>\n",
       "      <td>2443</td>\n",
       "      <td>English</td>\n",
       "      <td>nonfoil</td>\n",
       "      <td>Mythic</td>\n",
       "      <td>Active</td>\n",
       "      <td>0</td>\n",
       "      <td>0</td>\n",
       "      <td>MYR 30</td>\n",
       "    </tr>\n",
       "  </tbody>\n",
       "</table>\n",
       "</div>"
      ],
      "text/plain": [
       "                                                 Name                 Brand  \\\n",
       "0                               Admiral Beckett Brass  Magic: the Gathering   \n",
       "1                               Admiral Beckett Brass  Magic: the Gathering   \n",
       "2                               Admiral Beckett Brass  Magic: the Gathering   \n",
       "3      Admiral Beckett Brass (Prerelease Datestamped)  Magic: the Gathering   \n",
       "4                               Admiral Beckett Brass  Magic: the Gathering   \n",
       "5                               Admiral Beckett Brass  Magic: the Gathering   \n",
       "6                    Admiral Beckett Brass (Showcase)  Magic: the Gathering   \n",
       "7                    Admiral Beckett Brass (Showcase)  Magic: the Gathering   \n",
       "8                    Admiral Beckett Brass (Showcase)  Magic: the Gathering   \n",
       "9                    Admiral Beckett Brass (Showcase)  Magic: the Gathering   \n",
       "10                   Admiral Beckett Brass (Showcase)  Magic: the Gathering   \n",
       "11  Admiral Beckett Brass (Edward, Jackdaw Captain...  Magic: the Gathering   \n",
       "12  Admiral Beckett Brass (Edward, Jackdaw Captain...  Magic: the Gathering   \n",
       "\n",
       "                                     Set Product ID Language   Finish  Rarity  \\\n",
       "0                               The List       2540  English  nonfoil  Mythic   \n",
       "1                                 Ixalan       3030  English  nonfoil  Mythic   \n",
       "2                                 Ixalan       3030  English     foil  Mythic   \n",
       "3                          Ixalan Promos       2944  English     foil  Mythic   \n",
       "4   The Lost Caverns of Ixalan Commander     100042  English  nonfoil  Mythic   \n",
       "5   The Lost Caverns of Ixalan Commander     100042  English     foil  Mythic   \n",
       "6                       Secret Lair Drop       2443  English     foil  Mythic   \n",
       "7                       Secret Lair Drop       2443  English  nonfoil  Mythic   \n",
       "8                       Secret Lair Drop       2443  English     foil  Mythic   \n",
       "9                       Secret Lair Drop       2443  English     foil  Mythic   \n",
       "10                      Secret Lair Drop       2443  English     foil  Mythic   \n",
       "11                      Secret Lair Drop       2443  English     foil  Mythic   \n",
       "12                      Secret Lair Drop       2443  English  nonfoil  Mythic   \n",
       "\n",
       "    Status Stock Quantity Stock Availability Stock Price  \n",
       "0   Active              8          available       MYR 5  \n",
       "1   Active              8          available       MYR 5  \n",
       "2   Active              0                  0      MYR 31  \n",
       "3   Active              0                  0      MYR 46  \n",
       "4   Active              0                  0       MYR 5  \n",
       "5   Active              0                  0       MYR 6  \n",
       "6   Active              0                  0       MYR 6  \n",
       "7   Active              0                  0      MYR 28  \n",
       "8   Active              0                  0      MYR 40  \n",
       "9   Active              0                  0      MYR 40  \n",
       "10  Active              0                  0      MYR 40  \n",
       "11  Active              0                  0       MYR 6  \n",
       "12  Active              0                  0      MYR 30  "
      ]
     },
     "execution_count": 38,
     "metadata": {},
     "output_type": "execute_result"
    }
   ],
   "source": [
    "data"
   ]
  },
  {
   "cell_type": "code",
   "execution_count": null,
   "metadata": {},
   "outputs": [],
   "source": []
  }
 ],
 "metadata": {
  "kernelspec": {
   "display_name": "mtgscrapper",
   "language": "python",
   "name": "python3"
  },
  "language_info": {
   "codemirror_mode": {
    "name": "ipython",
    "version": 3
   },
   "file_extension": ".py",
   "mimetype": "text/x-python",
   "name": "python",
   "nbconvert_exporter": "python",
   "pygments_lexer": "ipython3",
   "version": "3.10.15"
  }
 },
 "nbformat": 4,
 "nbformat_minor": 2
}
